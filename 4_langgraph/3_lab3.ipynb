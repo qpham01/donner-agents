{
 "cells": [
  {
   "cell_type": "markdown",
   "metadata": {},
   "source": [
    "## Welcome to Week 4, Day 4\n",
    "\n",
    "This is the start of an AWESOME project! Really simple and very effective."
   ]
  },
  {
   "cell_type": "markdown",
   "metadata": {},
   "source": [
    "### First - a heads up for Windows PC users\n",
    "\n",
    "While executing this notebook, you might hit a problem with the Playwright browser raising a NotImplementedError.\n",
    "\n",
    "This should work when we move to python modules, but it can cause problems in Windows in a notebook.\n",
    "\n",
    "If you it this error and would like to run the notebook, you need to make a small change which seems quite hacky!\n",
    "\n",
    "1. Right click in `.venv` in the File Explorer on the left and select \"Find in folder\"\n",
    "2. Search for `asyncio.set_event_loop_policy(WindowsSelectorEventLoopPolicy())`  \n",
    "3. That code should be found in a line of code in a file called `kernelapp.py`\n",
    "4. Comment out the entire else clause that this line is a part of - see the fragment below\n",
    "5. Restart the kernel by pressing the \"Restart\" button above\n",
    "\n",
    "```python\n",
    "        if sys.platform.startswith(\"win\") and sys.version_info >= (3, 8):\n",
    "            import asyncio\n",
    " \n",
    "            try:\n",
    "                from asyncio import WindowsProactorEventLoopPolicy, WindowsSelectorEventLoopPolicy\n",
    "            except ImportError:\n",
    "                pass\n",
    "                # not affected\n",
    "           # else:\n",
    "            #    if type(asyncio.get_event_loop_policy()) is WindowsProactorEventLoopPolicy:\n",
    "                    # WindowsProactorEventLoopPolicy is not compatible with tornado 6\n",
    "                    # fallback to the pre-3.8 default of Selector\n",
    "                    # asyncio.set_event_loop_policy(WindowsSelectorEventLoopPolicy())\n",
    "```\n",
    "\n",
    "Thank you to student Nicolas for finding this, and to Kalyan, Yaki, Zibin and Bhaskar for confirming that this worked for them!\n",
    "\n",
    "As an alternative, you can just move to a Python module (which we do anyway in Day 5)"
   ]
  },
  {
   "cell_type": "code",
   "execution_count": 17,
   "metadata": {},
   "outputs": [],
   "source": [
    "from typing import Annotated\n",
    "from typing_extensions import TypedDict\n",
    "from langgraph.graph import StateGraph, START\n",
    "from langgraph.graph.message import add_messages\n",
    "from dotenv import load_dotenv\n",
    "from IPython.display import Image, display\n",
    "import gradio as gr\n",
    "from langgraph.prebuilt import ToolNode, tools_condition\n",
    "import requests\n",
    "import os\n",
    "from langchain.agents import Tool\n",
    "\n",
    "from langchain_openai import ChatOpenAI\n",
    "from langgraph.checkpoint.memory import MemorySaver"
   ]
  },
  {
   "cell_type": "code",
   "execution_count": 18,
   "metadata": {},
   "outputs": [
    {
     "data": {
      "text/plain": [
       "True"
      ]
     },
     "execution_count": 18,
     "metadata": {},
     "output_type": "execute_result"
    }
   ],
   "source": [
    "load_dotenv(override=True)"
   ]
  },
  {
   "cell_type": "markdown",
   "metadata": {},
   "source": [
    "### Asynchronous LangGraph\n",
    "\n",
    "To run a tool:  \n",
    "Sync: `tool.run(inputs)`  \n",
    "Async: `await tool.arun(inputs)`\n",
    "\n",
    "To invoke the graph:  \n",
    "Sync: `graph.invoke(state)`  \n",
    "Async: `await graph.ainvoke(state)`"
   ]
  },
  {
   "cell_type": "code",
   "execution_count": 19,
   "metadata": {},
   "outputs": [],
   "source": [
    "class State(TypedDict):\n",
    "    \n",
    "    messages: Annotated[list, add_messages]\n",
    "\n",
    "\n",
    "graph_builder = StateGraph(State)"
   ]
  },
  {
   "cell_type": "code",
   "execution_count": 20,
   "metadata": {},
   "outputs": [],
   "source": [
    "pushover_token = os.getenv(\"PUSHOVER_TOKEN\")\n",
    "pushover_user = os.getenv(\"PUSHOVER_USER\")\n",
    "pushover_url = \"https://api.pushover.net/1/messages.json\"\n",
    "\n",
    "def push(text: str):\n",
    "    \"\"\"Send a push notification to the user\"\"\"\n",
    "    requests.post(pushover_url, data = {\"token\": pushover_token, \"user\": pushover_user, \"message\": text})\n",
    "\n",
    "tool_push = Tool(\n",
    "        name=\"send_push_notification\",\n",
    "        func=push,\n",
    "        description=\"useful for when you want to send a push notification\"\n",
    "    )"
   ]
  },
  {
   "cell_type": "markdown",
   "metadata": {},
   "source": [
    "### Next: Install Playwright\n",
    "\n",
    "On Windows and MacOS:  \n",
    "`playwright install`\n",
    "\n",
    "On Linux:  \n",
    "`playwright install —with-reps chromium`\n",
    "\n",
    "Student Mariano R. mentioned that you might also need to do this in a cursor terminal:\n",
    "\n",
    "`uv run playwright install chromium`"
   ]
  },
  {
   "cell_type": "markdown",
   "metadata": {},
   "source": [
    "### Introducing nest_asyncio\n",
    "\n",
    "Python async code only allows for one \"event loop\" processing aynchronous events.\n",
    "\n",
    "The `nest_asyncio` library patches this, and is used for special situations, if you need to run a nested event loop.\n",
    "\n"
   ]
  },
  {
   "cell_type": "code",
   "execution_count": 21,
   "metadata": {},
   "outputs": [],
   "source": [
    "import nest_asyncio\n",
    "nest_asyncio.apply()"
   ]
  },
  {
   "cell_type": "markdown",
   "metadata": {},
   "source": [
    "### The LangChain community\n",
    "\n",
    "One of the remarkable things about LangChain is the rich community around it.\n",
    "\n",
    "Check this out:\n"
   ]
  },
  {
   "cell_type": "code",
   "execution_count": 22,
   "metadata": {},
   "outputs": [],
   "source": [
    "from langchain_community.agent_toolkits import PlayWrightBrowserToolkit\n",
    "from langchain_community.tools.playwright.utils import create_async_playwright_browser\n",
    "\n",
    "# If you get a NotImplementedError here or later, see the Heads Up at the top of the notebook\n",
    "\n",
    "async_browser =  create_async_playwright_browser(headless=False)  # headful mode\n",
    "toolkit = PlayWrightBrowserToolkit.from_browser(async_browser=async_browser)\n",
    "tools = toolkit.get_tools()"
   ]
  },
  {
   "cell_type": "code",
   "execution_count": 23,
   "metadata": {},
   "outputs": [
    {
     "name": "stdout",
     "output_type": "stream",
     "text": [
      "click_element=async_browser=<Browser type=<BrowserType name=chromium executable_path=/home/quoc/.cache/ms-playwright/chromium-1169/chrome-linux/chrome> version=136.0.7103.25>\n",
      "navigate_browser=async_browser=<Browser type=<BrowserType name=chromium executable_path=/home/quoc/.cache/ms-playwright/chromium-1169/chrome-linux/chrome> version=136.0.7103.25>\n",
      "previous_webpage=async_browser=<Browser type=<BrowserType name=chromium executable_path=/home/quoc/.cache/ms-playwright/chromium-1169/chrome-linux/chrome> version=136.0.7103.25>\n",
      "extract_text=async_browser=<Browser type=<BrowserType name=chromium executable_path=/home/quoc/.cache/ms-playwright/chromium-1169/chrome-linux/chrome> version=136.0.7103.25>\n",
      "extract_hyperlinks=async_browser=<Browser type=<BrowserType name=chromium executable_path=/home/quoc/.cache/ms-playwright/chromium-1169/chrome-linux/chrome> version=136.0.7103.25>\n",
      "get_elements=async_browser=<Browser type=<BrowserType name=chromium executable_path=/home/quoc/.cache/ms-playwright/chromium-1169/chrome-linux/chrome> version=136.0.7103.25>\n",
      "current_webpage=async_browser=<Browser type=<BrowserType name=chromium executable_path=/home/quoc/.cache/ms-playwright/chromium-1169/chrome-linux/chrome> version=136.0.7103.25>\n"
     ]
    }
   ],
   "source": [
    "for tool in tools:\n",
    "    print(f\"{tool.name}={tool}\")"
   ]
  },
  {
   "cell_type": "code",
   "execution_count": 25,
   "metadata": {},
   "outputs": [],
   "source": [
    "tool_dict = {tool.name:tool for tool in tools}\n",
    "\n",
    "navigate_tool = tool_dict.get(\"navigate_browser\")\n",
    "extract_text_tool = tool_dict.get(\"extract_text\")\n",
    "\n",
    "    \n",
    "await navigate_tool.arun({\"url\": \"https://www.cnn.com\"})\n",
    "text = await extract_text_tool.arun({})"
   ]
  },
  {
   "cell_type": "code",
   "execution_count": 26,
   "metadata": {},
   "outputs": [
    {
     "name": "stdout",
     "output_type": "stream",
     "text": [
      "Breaking News, Latest News and Videos | CNN CNN values your feedback\n",
      "1. How relevant is this ad to you? 2. Did you encounter any technical\n",
      "issues? No Video player was slow to load content Video content never\n",
      "loaded Ad froze or did not finish loading Video content did not start\n",
      "after ad Audio on ad was too loud Other issues Ad never loaded Ad\n",
      "prevented/slowed the page from loading Content moved around while ad\n",
      "loaded Ad was repetitive to ads I've seen previously Other issues\n",
      "Cancel Submit Thank You! Your effort and contribution in providing\n",
      "this feedback is much\n",
      "appreciated. Close Ad Feedback Close icon US World Politics Business\n",
      "Health Entertainment Style Travel Sports Science Climate Weather\n",
      "Ukraine-Russia War Israel-Hamas War Underscored Games More US World\n",
      "Politics Business Health Entertainment Style Travel Sports Science\n",
      "Climate Weather Ukraine-Russia War Israel-Hamas War Underscored Games\n",
      "Watch Listen Live TV Subscribe Sign in My Account Settings Newsletters\n",
      "Topics you follow Sign out Your CNN account Sign in to your CNN\n",
      "account Sign in My Account Settings Newsletters Topics you follow Sign\n",
      "out Your CNN account Sign in to your CNN account Live TV Listen Watch\n",
      "Edition US International Arabic Español Edition US International\n",
      "Arabic Español US Crime + Justice World Africa Americas Asia Australia\n",
      "China Europe India Middle East United Kingdom Politics Trump Facts\n",
      "First CNN Polls 2025 Elections Business Tech Media Calculators Videos\n",
      "Markets Pre-markets After-Hours Fear & Greed Investing Markets Now\n",
      "Nightcap Health Life, But Better Fitness Food Sleep Mindfulness\n",
      "Relationships Entertainment Movies Television Celebrity Tech Innovate\n",
      "Foreseeable Future Mission: Ahead Work Transformed Innovative Cities\n",
      "Style Arts Design Fashion Architecture Luxury Beauty Video Travel\n",
      "Destinations Food & Drink Stay Videos Sports Pro Football College\n",
      "Football Basketball Baseball Soccer Olympics Hockey Science Space Life\n",
      "Unearthed Climate Solutions Weather Weather Video Climate Ukraine-\n",
      "Russia War Israel-Hamas War Watch Live TV CNN Headlines CNN Shorts\n",
      "Shows A-Z CNN10 CNN Max CNN TV Schedules FlashDocs Listen CNN 5 Things\n",
      "Chasing Life with Dr. Sanjay Gupta The Assignment with Audie Cornish\n",
      "One Thing Tug of War CNN Political Briefing The Axe Files All There Is\n",
      "with Anderson Cooper All CNN Audio podcasts CNN Underscored\n",
      "Electronics Fashion Beauty Health & Fitness Home Reviews Deals Gifts\n",
      "Travel Outdoors Pets Games Daily Crossword Jumble Crossword Photo\n",
      "Shuffle Sudoblock Sudoku 5 Things Quiz About CNN Subscribe Photos\n",
      "Investigations CNN Profiles CNN Leadership CNN Newsletters Work for\n",
      "CNN Follow CNN Trending Beyond-the-grave tax break Ellen DeGeneres\n",
      "Food prices Washington Commanders Corey Adams MRI machine death\n",
      "Coldplay concert • Breaking News Breaking News Richard\n",
      "Shotwell/Invision/AP Breaking News Malcolm-Jamal Warner, actor who\n",
      "starred as Theo in ‘The Cosby Show,’ dead at 54 Malcolm-Jamal Warner,\n",
      "an actor and artist who rose to fame as a child as Theodore Huxtable\n",
      "on “The Cosby Show,” has died, according to a source close to the\n",
      "actor. • Video 1:08 Josh Kadrmas Video Hear pilot flying a Delta\n",
      "regional jet apologize after making an ‘aggressive maneuver’ to avoid\n",
      "hitting a B-52 bomber 1:08 A pilot flying a Delta Air Lines regional\n",
      "jet apologized to his passengers on Friday after making an “aggressive\n",
      "maneuver” to avoid hitting a US Air Force B-52 bomber, audio shared on\n",
      "TikTok from the incident shows. SkyWest Airlines and the Federal\n",
      "Aviation Administration are investigating the close call. Andrew\n",
      "Harnik/Getty Images Incident occurred on flight from Minneapolis to\n",
      "Minot, North Dakota A pilot flying a Delta Air Lines regional jet on\n",
      "Friday apologized to his passengers after making a hard turn to avoid\n",
      "colliding with a US Air Force B-52 bomber, audio from the incident\n",
      "shows. How voters grade Trump's second term so far Show all Scott\n",
      "Morgan/Bloomberg/Getty Images Views on the administration’s\n",
      "immigration agenda offer a telling snapshot of the polarization of the\n",
      "Trump era Jaclyn Taylor and Lawrence Malinconico live on opposite\n",
      "sides of the Trump canyon that defines and divides American politics.\n",
      "• Analysis Analysis Alex Brandon/AP Analysis Why Trump can’t seem to\n",
      "shake fallout over the Epstein files Even President Donald Trump\n",
      "doesn’t seem to think his angry and chaotic efforts to end the renewed\n",
      "storm over convicted sex offender Jeffrey Epstein will work. • Video\n",
      "3:10 CNN Video Harry Enten breaks down how Americans feel about\n",
      "Epstein files fallout 3:10 CNN Chief Data Analyst Harry Enten looks at\n",
      "public sentiment over the Jeffrey Epstein case and how the government\n",
      "is handling it. Play CNN Headlines - Source: CNN Watch the latest CNN\n",
      "Headlines LindasPhotography/iStockphoto/Getty Images One\n",
      "ultraprocessed food may be good for you and the planet, experts say\n",
      "LeoPatrizi/E+/Getty Images The scientific reason why you are not\n",
      "joyful — and what to do about it More Top Stories Andrew Harnik/Getty\n",
      "Images Senator calls on Trump to reverse course on his proposal to\n",
      "slash the budget for NOAA Breaking News Appeals court orders new trial\n",
      "for man convicted in 1979 Etan Patz case Video DHS releases video of\n",
      "shooting of off-duty Border Patrol agent 1:29 Pepsi is betting a\n",
      "popular health trend can get more people to drink its soda In scathing\n",
      "letter, NASA workers rebuke ‘rapid and wasteful changes’ at agency\n",
      "Video See inside secretive Russian drone factory 0:58 US Marines\n",
      "mobilized to Los Angeles are being sent home, Pentagon says The Motley\n",
      "Fool Card experts say: \"worth it's weight in gold\" Business Show all\n",
      "Jim Watson/AFP/Getty Images Beef prices are the new egg prices.\n",
      "They’re soaring First it was eggs, now its beef. • For Subscribers For\n",
      "Subscribers Illustration by Ian Berry/CNN For Subscribers Will AI\n",
      "really wipe out white collar jobs? Tech insiders are split People have\n",
      "worried that computers will take their jobs for at least a decade, but\n",
      "those fears have felt more realistic than ever over the past year as\n",
      "artificial intelligence has begun to overhaul the way people work.\n",
      "Kylie Cooper/Reuters/FILE China bans Wells Fargo banker from leaving\n",
      "country An Atlanta-based banker working for Wells Fargo has been\n",
      "prevented from leaving China, the latest incident that threatens to\n",
      "amplify concerns among Western executives about the potential\n",
      "consequences of visiting the world’s second-biggest economy. Trump\n",
      "policies • For Subscribers For Subscribers Kayla Bartkowski/Getty\n",
      "Images For Subscribers As Trump administration targets transgender\n",
      "community, some fear the endgame Part of the nation’s suicide and\n",
      "crisis hotline that was specifically aimed at helping LGBTQ+ youth was\n",
      "shut down this week, the latest action by the Trump administration to\n",
      "limit the LGBTQ+ community’s access to government services – but\n",
      "experts say it won’t be the last, with the transgender community\n",
      "emerging as the biggest target. Ad Feedback Ad Feedback CNN\n",
      "Underscored Michelle Rae Uy/CNN Underscored Rain or shine, these\n",
      "waterproof shoes will keep your feet nice and dry Jul 3, 2025 iStock\n",
      "Sun shades will keep your car’s interior temperature comfy. Here are\n",
      "the 12 best Jul 8, 2025 Rachel Quigley/CNN Underscored We tested\n",
      "tummy-control swimsuits. Here are 3 that actually look and feel good\n",
      "Jun 21, 2025 Ad Feedback Sports spotlight Luke Hales/Getty Images\n",
      "Trump threatens to restrict stadium deal if Washington Commanders\n",
      "don’t change back to ‘Redskins’ Andrew Redington/Getty Images Wyndham\n",
      "Clark feels ‘terrible’ about Oakmont locker damage and says he will\n",
      "make good Megan Briggs/Getty Images Venus Williams wishes sister\n",
      "Serena would come out of retirement to join her in competition Middle\n",
      "East conflict Eyad Baba/AFP/Getty Images Western nations slam Israel’s\n",
      "‘drip feeding of aid’ to Gaza as health ministry says 1,000 killed\n",
      "seeking supplies • Video 3:04 CNN Video Inside a family’s struggle to\n",
      "find food in Gaza 3:04 Eyad Baba/AFP/Getty Images Israeli tanks roll\n",
      "into Gazan city of Deir al-Balah for first time since war began For\n",
      "Subscribers • For Subscribers For Subscribers Andrew Caballero-\n",
      "Reynolds/AFP/Getty Images For Subscribers Marco Rubio’s role atop\n",
      "Trump’s national security apparatus has been cemented • For\n",
      "Subscribers For Subscribers Mario Tama/Getty Images For Subscribers\n",
      "How ICE plans to supercharge immigration enforcement nationwide • For\n",
      "Subscribers For Subscribers United Farm Workers For Subscribers An\n",
      "Army veteran and US citizen recounts 3 days in custody after\n",
      "immigration raid Ad Feedback Ad Feedback CNN Underscored Best-in-class\n",
      "Kai Burkhardt/CNN Underscored Don’t waste your money on a bad water\n",
      "bottle. These 3 are the best I’ve ever tested Sunglasses don’t need to\n",
      "be expensive to be high-quality. So we found 16 of the best ones Bring\n",
      "your knives back to life with this top-tested kitchen knife sharpener\n",
      "Expert-backed guides Michelle Rae Uy/CNN Underscored We rolled 10\n",
      "beach wagons through the sand. Only 3 made our lives easier I’ve been\n",
      "tracking Nintendo Switch 2 restocks for weeks. Here are your best\n",
      "options 8 cute ways to put your hair up this summer, according to\n",
      "hairstylists Editors' picks Emily Pennington/CNN Underscored 19 best\n",
      "sandals for walking all day long, according to podiatrists 3 best\n",
      "personal item bags for every type of traveler Plenty of laptops\n",
      "impressed us, but this one topped them all America's Best Towns\n",
      "Show all • Video 2:28 CNN Video The people in this coastal town burn\n",
      "their socks every year. Here’s why 2:28 Rebecca Wright/CNN Maritime\n",
      "town offers boating, great seafood and more than 250 years of history\n",
      "Sonoma County Tourism Once ‘the world’s egg basket,’ this Gold Rush-\n",
      "era boomtown still delivers culinary riches Life, But Greener Show all\n",
      "• Video 2:57 CNN Video More than a million poop bags end up in\n",
      "landfills - how your pet impacts the planet 2:57 • Video 1:48 CNN\n",
      "Video Why Billie Eilish insists on special rules at all her concerts\n",
      "1:48 • Video 2:56 CNN Video This 6-pound backpack changed one man’s\n",
      "approach to life 2:56 Ad Feedback PAID PARTNER CONTENT Thousands rush\n",
      "to 0% APR cards lasting until 2027 CardCritics $1,404—11-night Asian\n",
      "cruise including Tokyo & Hong Kong SMARTERCRUISER.COM US news Kyle\n",
      "Mazza/NurPhoto/Shutterstock DHS Secretary blames New York City\n",
      "officials, sanctuary city policies for shooting of off-duty Border\n",
      "Patrol agent Inside Idaho’s only maximum security prison where Bryan\n",
      "Kohberger may spend the rest of his life Alaska Airlines lifts ground\n",
      "stop after IT outage affects operations World Show all Reuters At\n",
      "least 20 killed as Bangladesh air force jet crashes into school For\n",
      "the first time in modern history a capital city is on the verge of\n",
      "running dry Deadly wave of Russian missiles pummel Ukraine as Kyiv’s\n",
      "drones spark Moscow airport disruptions Entertainment and Culture\n",
      "Show all HBO ‘The Sopranos’ shared studio space with ‘Sex and the\n",
      "City’ but not meatballs Bruce Springsteen made a surprise appearance\n",
      "at a Zach Bryan concert Ellen DeGeneres says Donald Trump is the\n",
      "reason she left the US Extreme weather Sudipta Das/NurPhoto/Getty\n",
      "Images Extreme weather caused by climate change is raising food prices\n",
      "worldwide, study says It’s the summer of flooding in the US, and\n",
      "scientists know why See where Americans are at the most risk for\n",
      "extreme heat this year Latest politics Anna Moneymaker/Getty Images\n",
      "How much do Republicans care about the Epstein files? More than it\n",
      "might seem Democrats consider redrawing congressional maps What to\n",
      "expect as Harvard takes on the Trump administration in federal court\n",
      "Travel and tourism The Kidner Family She got the last seat on a flight\n",
      "next to a stranger and her life was never the same Barcelona is\n",
      "shutting two of its cruise-ship terminals You can walk between the\n",
      "Louvre and the Guggenheim in this new art district Health and Wellness\n",
      "• Analysis Analysis Elva Etienne/Moment RF/Getty Images Analysis Don’t\n",
      "give children under age 13 smartphones, new research says Cuts to food\n",
      "benefits stand in the way of RFK Jr.’s goals for a healthier national\n",
      "diet Art and Style • Look of the Week Look of the Week Click News and\n",
      "Media Look of the Week Charli XCX proves that unconventional brides\n",
      "can still be glamorous Someone has eaten artist Maurizio Cattelan’s $6\n",
      "million banana – again Video Could ‘fashioneering’ be a future trend?\n",
      "1:56 Bleacher Report Show all Chris Paul returning to LA for what\n",
      "could be his final season Scheffler downplays Tiger comparisons after\n",
      "The Open win Ranking top 25 golfers after British Open Bills release\n",
      "drone video of New Highmark Stadium amid construction Brittney Griner\n",
      "comments on reaction to being detained in Russia Paid Content Paid\n",
      "Content Recommendations More from CNN Space and Science Courtesy of\n",
      "the Master and Fellows of Peterhouse/University of Cambridge Medieval\n",
      "scribe’s slip-up triggered centuries of confusion over a long-lost\n",
      "saga. Researchers finally decoded the error Rare Ceratosaurus fossil\n",
      "sells for $30.5 million Video New images reveal stunning views from\n",
      "mission to ‘touch’ the sun 1:10 Stories of survival Courtesy Tami\n",
      "Laird California mom and son used handwritten notes to lead rescuers\n",
      "to their location in a remote forest Boy survives Vietnam tourist boat\n",
      "sinking that killed dozens by sheltering in air pocket Video Tourist\n",
      "boat capsizes in Vietnam’s Halong Bay 0:28 Ad Feedback Paid Partner\n",
      "Content DISTRO TV DistroTV: Watch 270+ Live Streaming Channels All For\n",
      "Free DistroTV is the best FREE independent streaming television\n",
      "service 270+ FREE live streaming channels: Entertainment, Sports,\n",
      "Movies, Music & More No sign up. No registration. No credit cards.\n",
      "Just watch for FREE CNN Games + Quizzes Show all • Today's crossword\n",
      "Today's crossword CNN Today's crossword No pencil or eraser required •\n",
      "Sudoblock Sudoblock CNN Sudoblock Sudoku + Blocks = addictive tile-\n",
      "matching puzzle • Jumble Crossword Jumble Crossword CNN Jumble\n",
      "Crossword Test your smarts with this scrambled word game • Weekly news\n",
      "quiz Weekly news quiz cnn Weekly news quiz What do you remember from\n",
      "the week that was? In case you missed it Edward Berthelot/Getty\n",
      "Images/FILE Starbucks reveals when it is bringing back the Pumpkin\n",
      "Spice Latte Coldplay’s Chris Martin offered concertgoers a friendly\n",
      "warning before ‘Jumbotron Song’ Deadly wave of Russian missiles pummel\n",
      "Ukraine as Kyiv’s drones spark Moscow airport disruptions For Chicago\n",
      "small businesses, ‘the pope economy’ is good UC Berkeley professor\n",
      "killed in Athens: Suspect claims he ‘did it all for’ victim’s ex-wife,\n",
      "leaked police confession reveals England defender Jess Carter steps\n",
      "back from social media after racist abuse, team condemns ‘online\n",
      "poison’ Car flies through air, landing in barn roof in Germany,\n",
      "seriously injuring two A couple were accused of having an ‘illicit’\n",
      "relationship. Their community allegedly shot them dead Subscribe Sign\n",
      "in My Account Settings Newsletters Topics you follow Sign out Your CNN\n",
      "account Sign in to your CNN account Live TV Listen Watch US Crime +\n",
      "Justice World Africa Americas Asia Australia China Europe India Middle\n",
      "East United Kingdom Politics Trump Facts First CNN Polls 2025\n",
      "Elections Business Tech Media Calculators Videos Markets Pre-markets\n",
      "After-Hours Fear & Greed Investing Markets Now Nightcap Health Life,\n",
      "But Better Fitness Food Sleep Mindfulness Relationships Entertainment\n",
      "Movies Television Celebrity Tech Innovate Foreseeable Future Mission:\n",
      "Ahead Work Transformed Innovative Cities Style Arts Design Fashion\n",
      "Architecture Luxury Beauty Video Travel Destinations Food & Drink Stay\n",
      "News Videos Sports Pro Football College Football Basketball Baseball\n",
      "Soccer Olympics Hockey Science Space Life Unearthed Climate Solutions\n",
      "Weather Weather Video Climate Ukraine-Russia War Israel-Hamas War\n",
      "Watch Live TV CNN Headlines CNN Shorts Shows A-Z CNN10 CNN Max CNN TV\n",
      "Schedules FlashDocs Listen CNN 5 Things Chasing Life with Dr. Sanjay\n",
      "Gupta The Assignment with Audie Cornish One Thing Tug of War CNN\n",
      "Political Briefing The Axe Files All There Is with Anderson Cooper All\n",
      "CNN Audio podcasts CNN Underscored Electronics Fashion Beauty Health &\n",
      "Fitness Home Reviews Deals Gifts Travel Outdoors Pets Games Daily\n",
      "Crossword Jumble Crossword Photo Shuffle Sudoblock Sudoku 5 Things\n",
      "Quiz About CNN Subscribe Photos Investigations CNN Profiles CNN\n",
      "Leadership CNN Newsletters Work for CNN Watch Listen Live TV Follow\n",
      "CNN Subscribe Sign in My Account Settings Newsletters Topics you\n",
      "follow Sign out Your CNN account Sign in to your CNN account Terms of\n",
      "Use Privacy Policy Do Not Sell Or Share My Personal Information Ad\n",
      "Choices Accessibility & CC About Subscribe Newsletters Transcripts\n",
      "Help Center © 2025 Cable News Network. A Warner Bros. Discovery\n",
      "Company. All Rights Reserved. CNN Sans ™ & © 2016 Cable News Network.\n",
      "Global Privacy Control (GPC) signal detected.  Your personal\n",
      "information will not be sold or shared. Do Not Sell or Share My\n",
      "Personal Data For residents of certain states only.  Please visit our\n",
      "U.S. State Supplement for more information. Privacy Policy Manage\n",
      "Consent Preferences Allow the Sale, Sharing or use of My Personal\n",
      "information for Targeted Advertising Allow the Sale, Sharing or use of\n",
      "My Personal information for Targeted Advertising If you switch this\n",
      "toggle to “no,” we will not sell or share your personal information\n",
      "with third parties for advertising targeted to this device. Please see\n",
      "our Privacy Center for additional preferences. Strictly Necessary\n",
      "Cookies Always Active These cookies are necessary for the website to\n",
      "function and cannot be switched off in our systems. You can set your\n",
      "browser to block or alert you about these cookies, but some parts of\n",
      "the site will not work. Back Button Cookie List Search Icon Filter\n",
      "Icon Clear checkbox label label Apply Cancel Consent Leg.Interest\n",
      "checkbox label label checkbox label label checkbox label label Confirm\n",
      "My Choices\n"
     ]
    }
   ],
   "source": [
    "import textwrap\n",
    "print(textwrap.fill(text))"
   ]
  },
  {
   "cell_type": "code",
   "execution_count": 27,
   "metadata": {},
   "outputs": [],
   "source": [
    "all_tools = tools + [tool_push]"
   ]
  },
  {
   "cell_type": "code",
   "execution_count": 28,
   "metadata": {},
   "outputs": [],
   "source": [
    "\n",
    "llm = ChatOpenAI(model=\"gpt-4o-mini\")\n",
    "llm_with_tools = llm.bind_tools(all_tools)\n",
    "\n",
    "\n",
    "def chatbot(state: State):\n",
    "    return {\"messages\": [llm_with_tools.invoke(state[\"messages\"])]}\n"
   ]
  },
  {
   "cell_type": "code",
   "execution_count": 29,
   "metadata": {},
   "outputs": [
    {
     "data": {
      "image/png": "[encoded data removed]",
      "text/plain": [
       "<IPython.core.display.Image object>"
      ]
     },
     "metadata": {},
     "output_type": "display_data"
    }
   ],
   "source": [
    "\n",
    "graph_builder = StateGraph(State)\n",
    "graph_builder.add_node(\"chatbot\", chatbot)\n",
    "graph_builder.add_node(\"tools\", ToolNode(tools=all_tools))\n",
    "graph_builder.add_conditional_edges( \"chatbot\", tools_condition, \"tools\")\n",
    "graph_builder.add_edge(\"tools\", \"chatbot\")\n",
    "graph_builder.add_edge(START, \"chatbot\")\n",
    "\n",
    "memory = MemorySaver()\n",
    "graph = graph_builder.compile(checkpointer=memory)\n",
    "display(Image(graph.get_graph().draw_mermaid_png()))"
   ]
  },
  {
   "cell_type": "code",
   "execution_count": 30,
   "metadata": {},
   "outputs": [
    {
     "name": "stdout",
     "output_type": "stream",
     "text": [
      "* Running on local URL:  http://127.0.0.1:7864\n",
      "* To create a public link, set `share=True` in `launch()`.\n"
     ]
    },
    {
     "data": {
      "text/html": [
       "<div><iframe src=\"http://127.0.0.1:7864/\" width=\"100%\" height=\"500\" allow=\"autoplay; camera; microphone; clipboard-read; clipboard-write;\" frameborder=\"0\" allowfullscreen></iframe></div>"
      ],
      "text/plain": [
       "<IPython.core.display.HTML object>"
      ]
     },
     "metadata": {},
     "output_type": "display_data"
    },
    {
     "data": {
      "text/plain": []
     },
     "execution_count": 30,
     "metadata": {},
     "output_type": "execute_result"
    }
   ],
   "source": [
    "config = {\"configurable\": {\"thread_id\": \"10\"}}\n",
    "\n",
    "async def chat(user_input: str, history):\n",
    "    result = await graph.ainvoke({\"messages\": [{\"role\": \"user\", \"content\": user_input}]}, config=config)\n",
    "    return result[\"messages\"][-1].content\n",
    "\n",
    "\n",
    "gr.ChatInterface(chat, type=\"messages\").launch()"
   ]
  },
  {
   "cell_type": "code",
   "execution_count": null,
   "metadata": {},
   "outputs": [],
   "source": []
  }
 ],
 "metadata": {
  "kernelspec": {
   "display_name": ".venv",
   "language": "python",
   "name": "python3"
  },
  "language_info": {
   "codemirror_mode": {
    "name": "ipython",
    "version": 3
   },
   "file_extension": ".py",
   "mimetype": "text/x-python",
   "name": "python",
   "nbconvert_exporter": "python",
   "pygments_lexer": "ipython3",
   "version": "3.12.9"
  }
 },
 "nbformat": 4,
 "nbformat_minor": 2
}
