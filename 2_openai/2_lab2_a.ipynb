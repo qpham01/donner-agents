{
 "cells": [
  {
   "cell_type": "markdown",
   "metadata": {},
   "source": [
    "## Week 2 Day 2\n",
    "\n",
    "Our first Agentic Framework project!!\n",
    "\n",
    "Prepare yourself for something ridiculously easy.\n",
    "\n",
    "We're going to build a simple Agent system for generating cold sales outreach emails:\n",
    "1. Agent workflow\n",
    "2. Use of tools to call functions\n",
    "3. Agent collaboration via Tools and Handoffs"
   ]
  },
  {
   "cell_type": "markdown",
   "metadata": {},
   "source": [
    "## Before we start - some setup:\n",
    "\n",
    "\n",
    "Please visit Sendgrid at: https://sendgrid.com/\n",
    "\n",
    "(Sendgrid is a Twilio company for sending emails.)\n",
    "\n",
    "If SendGrid gives you problems, see the alternative implementation using \"Resend Email\" in community_contributions/2_lab2_with_resend_email\n",
    "\n",
    "Please set up an account - it's free! (at least, for me, right now).\n",
    "\n",
    "Once you've created an account, click on:\n",
    "\n",
    "Settings (left sidebar) >> API Keys >> Create API Key (button on top right)\n",
    "\n",
    "Copy the key to the clipboard, then add a new line to your .env file:\n",
    "\n",
    "`SENDGRID_API_KEY=xxxx`\n",
    "\n",
    "And also, within SendGrid, go to:\n",
    "\n",
    "Settings (left sidebar) >> Sender Authentication >> \"Verify a Single Sender\"  \n",
    "and verify that your own email address is a real email address, so that SendGrid can send emails for you.\n"
   ]
  },
  {
   "cell_type": "code",
   "execution_count": 1,
   "metadata": {},
   "outputs": [],
   "source": [
    "from dotenv import load_dotenv\n",
    "from agents import Agent, Runner, trace, function_tool\n",
    "from openai.types.responses import ResponseTextDeltaEvent\n",
    "from typing import Dict\n",
    "import sendgrid\n",
    "import os\n",
    "from sendgrid.helpers.mail import Mail, Email, To, Content\n",
    "import asyncio\n",
    "\n"
   ]
  },
  {
   "cell_type": "code",
   "execution_count": 2,
   "metadata": {},
   "outputs": [
    {
     "data": {
      "text/plain": [
       "True"
      ]
     },
     "execution_count": 2,
     "metadata": {},
     "output_type": "execute_result"
    }
   ],
   "source": [
    "load_dotenv(override=True)"
   ]
  },
  {
   "cell_type": "code",
   "execution_count": 24,
   "metadata": {},
   "outputs": [
    {
     "name": "stdout",
     "output_type": "stream",
     "text": [
      "202\n"
     ]
    }
   ],
   "source": [
    "# Let's just check emails are working for you\n",
    "sender = \"quoc_pham@msn.com\"\n",
    "recipient = \"bqpham@outlook.com\"\n",
    "\n",
    "def send_test_email():\n",
    "    sg = sendgrid.SendGridAPIClient(api_key=os.environ.get('SENDGRID_API_KEY'))\n",
    "    from_email = Email(sender)  # Change to your verified sender\n",
    "    to_email = To(recipient)  # Change to your recipient\n",
    "    content = Content(\"text/plain\", \"This is an important test email\")\n",
    "    mail = Mail(from_email, to_email, \"Test email\", content).get()\n",
    "    response = sg.client.mail.send.post(request_body=mail)\n",
    "    print(response.status_code)\n",
    "\n",
    "send_test_email()"
   ]
  },
  {
   "cell_type": "markdown",
   "metadata": {},
   "source": [
    "### Did you receive the test email\n",
    "\n",
    "If you get a 202, then you're good to go!\n",
    "\n",
    "If not, you'll need to check your API key and your verified sender email address in the SendGrid dashboard\n",
    "\n",
    "Or use the alternative implementation using \"Resend Email\" in community_contributions/2_lab2_with_resend_email\n",
    "\n",
    "(Or - you could always replace the email sending code below with something to simply write to a flat file)"
   ]
  },
  {
   "cell_type": "markdown",
   "metadata": {},
   "source": [
    "## Step 1: Agent workflow"
   ]
  },
  {
   "cell_type": "code",
   "execution_count": 4,
   "metadata": {},
   "outputs": [],
   "source": [
    "instructions1 = \"You are an experienced D&D dungeon master and an expert in creating D&D adventures, \\\n",
    "You write brief, engaging D&D encounters featuring puzzles and traps. \\\n",
    "\"\n",
    "\n",
    "instructions2 = \"You are an experienced D&D dungeon master and an expert in creating D&D adventures, \\\n",
    "You write brief, balanced D&D encounters featuring monster encounters.\"\n",
    "\n",
    "instructions3 = \"You are an experienced D&D dungeon master and an expert in creating D&D adventures, , \\\n",
    "You write brief, story-driven D&D encounters featuring interesting NPCs.\""
   ]
  },
  {
   "cell_type": "code",
   "execution_count": null,
   "metadata": {},
   "outputs": [],
   "source": [
    "\n",
    "model = \"gpt-4o-mini\"\n",
    "\n",
    "dm_agent1 = Agent(\n",
    "        name=\"Puzzling DM\",\n",
    "        instructions=instructions1,\n",
    "        model=model\n",
    ")\n",
    "\n",
    "dm_agent2 = Agent(\n",
    "        name=\"Monstrous DM\",\n",
    "        instructions=instructions2,\n",
    "        model=model\n",
    ")\n",
    "\n",
    "dm_agent3 = Agent(\n",
    "        name=\"Characterful DM\",\n",
    "        instructions=instructions3,\n",
    "        model=model\n",
    ")"
   ]
  },
  {
   "cell_type": "code",
   "execution_count": 9,
   "metadata": {},
   "outputs": [
    {
     "name": "stdout",
     "output_type": "stream",
     "text": [
      "### Adventure Title: **The Echoes of Aeloria**\n",
      "\n",
      "**Adventure Level:** 3-5  \n",
      "**Setting:** The Sunken Ruins of Aeloria, an ancient elven city now submerged beneath a lake.\n",
      "\n",
      "---\n",
      "\n",
      "#### Hook\n",
      "\n",
      "As the party travels through the quaint town of Rivermere, they hear hushed whispers about an ancient elven city, Aeloria, recently uncovered by a drought. Townsfolk speak of treasures and artifacts, but also of eerie whispers and strange occurrences. Adventurous spirits in the party may feel drawn to investigate the ruins, while more cautious members might warn against it. However, a local bard recounts tales of a fabled artifact—the Crystal of Echoes—that grants insight into the past.\n",
      "\n",
      "#### Arrival\n",
      "\n",
      "The riverbanks are dry, revealing toppled stone structures embedded in splintered earth. To the east, an ancient stone archway stands, its runes faint but identifiable to those knowledgeable in Arcana. As the party approaches, a sudden gust of wind rustles through the ruins, eliciting a whisper: “Seek the echoes, awaken the past.”\n",
      "\n",
      "#### Encounter 1: The Pillars of Memories\n",
      "\n",
      "**Location:** The Great Hall of Aeloria, a large chamber with colossal stone pillars adorned with elvish carvings.\n",
      "\n",
      "**Puzzle:** At the center, a large mural illustrates the history of Aeloria, but parts are obscured by time. Characters may decipher the runes (DC 14 Intelligence check) to reveal a sequence: **Wolf, Lily, Star, Flame.**\n",
      "\n",
      "- **Mechanics:** When the party approaches the mural, they'll see ghostly figures of elven guardians appearing, repeating the sequence. The adventurers must touch the appropriate pillars in the order provided. Touching a pillar that is wrong causes ghostly illusions of the guardians to defend their sacred ground (see below).\n",
      "\n",
      "- **Consequences:** Success opens a hidden passage, while failure summons 2 Specters (CR 1) defending their hall. \n",
      "\n",
      "#### Passage to the Forgotten Library\n",
      "\n",
      "If the party succeeds, they discover a passage leading to the Forgotten Library, where scrolls and tomes float gently in an ethereal glow. The library is also guarded by the remnants of its knowledge, the **Chronicles of Aeloria**, which reveal lore and locations of other treasures.\n",
      "\n",
      "#### Encounter 2: The Cursed Librarian\n",
      "\n",
      "**Location:** A circular room filled with floating tomes that swirl around a spectral figure.\n",
      "\n",
      "**Trap:** The enchanting aura of the room may lure a character to read aloud from an ancient tome (DC 12 Wisdom save). If they fail, they are cursed with a **Confusion** effect for 1d4 rounds, and the librarian, an angry wraith, will awaken to defend her collection.\n",
      "\n",
      "- **Mechanics:** The wraith has an AC of 13 and can use a **Life Drain** (1d10 necrotic damage; regain that much HP). If defeated, the wraith dissipates, leaving behind a fragment of the Crystal of Echoes.\n",
      "\n",
      "#### Echoes of the Past\n",
      "\n",
      "Interacting with the pieces of the crystal allows characters to experience echoes of moments in Aeloria’s history. They may see the city's fall due to a betrayal and learn about an old enemy who seeks the crystal to bring back a dark power.\n",
      "\n",
      "**Visions reveal:** \n",
      "\n",
      "1. The elven rulers signing a peace treaty with a neighboring human kingdom.\n",
      "2. A shadowy figure plotting from the sidelines, ultimately leading to chaos.\n",
      "\n",
      "This information serves as a seed for future adventures.\n",
      "\n",
      "#### Encounter 3: The Guardian of Aeloria\n",
      "\n",
      "**Location:** As the characters return from the library, a rumble shakes the ruins, and a stone golem rises from the rubble, animated by the lingering magic of the Crystal.\n",
      "\n",
      "**Boss Fight:** The **Stone Golem (CR 5)** is the ancient guardian of Aeloria, angered by the disturbance of its resting place. \n",
      "\n",
      "- **Mechanics:** The golem has an AC of 17 and deals 2d10 bludgeoning damage with its melee attack. It can be slowed by destroying the four anchor stones in each corner of the hall. Each stone has 20 HP and AC 12.\n",
      "\n",
      "**Tactics:** The golem will focus on the character dealing the most damage or interfering with it the most. The anchor stones can be destroyed with melee or spells, giving the party an advantage.\n",
      "\n",
      "#### Conclusion\n",
      "\n",
      "Upon defeating the golem, the remaining piece of the Crystal glows brightly, hinting at the way forward. Characters may piece the crystal back together, granting them visions of the enemies plotting against them. They may also see potential repercussions of their choices, igniting deeper intrigue.\n",
      "\n",
      "As they exit Aeloria, the water that had previously shrouded it begins to rise again, sealing the ruins for another age. With newfound knowledge and potential allies—or enemies—the adventurers emerge into the dusk, the eerie whispers of Aeloria following them: “Echoes never truly fade.”\n",
      "\n",
      "**Rewards:**\n",
      "- Fragment of the Crystal of Echoes (Grants minor foresight in one future encounter)\n",
      "- Tomes containing valuable knowledge, potentially yielding additional quests\n",
      "- Magic items from the wraith, such as a **Spellbook of Lost Knowledge** (contains one spell of the DM's choice) \n",
      "\n",
      "---\n",
      "\n",
      "**DM Notes:** The adventure is designed to be compact yet rich in lore, allowing for exploration, interaction, and combat. Elements can be expanded based on party interests and skills, giving room for roleplay and improvisation."
     ]
    }
   ],
   "source": [
    "\n",
    "result = Runner.run_streamed(dm_agent1, input=\"Write a brief adventure no more than 1000 words.\")\n",
    "async for event in result.stream_events():\n",
    "    if event.type == \"raw_response_event\" and isinstance(event.data, ResponseTextDeltaEvent):\n",
    "        print(event.data.delta, end=\"\", flush=True)"
   ]
  },
  {
   "cell_type": "code",
   "execution_count": null,
   "metadata": {},
   "outputs": [
    {
     "name": "stdout",
     "output_type": "stream",
     "text": [
      "**Title: The Echoes of Eldrin's Hollow**\n",
      "\n",
      "### Synopsis:\n",
      "Deep within the Forest of Eldrin lies an ancient ruin, said to be the remnants of a civilization that fell to darkness centuries ago. The ghosts of its truth weave an enigmatic tapestry of riddles, echoing through time. The party must navigate traps, solve puzzles, and confront their inner fears to uncover the secret behind an enchanted artifact that could either save or doom the region.\n",
      "\n",
      "### Hook:\n",
      "The players are drawn to Eldrin’s Hollow by rumors of missing villagers and a glowing artifact believed to be hidden within the ruins. An old lorekeeper in the nearby village offers them a map leading to the site and warns of “echoes” that play tricks on the mind. \n",
      "\n",
      "### Setting:\n",
      "As the players approach Eldrin's Hollow, the air thickens with fog, muffling sound. Gnarled trees twist through a crumbling stone arch, marking the entrance to the ruin. Whispers echo as if the forest itself is alive.\n",
      "\n",
      "---\n",
      "\n",
      "### Encounter 1: The Hall of Whispers\n",
      "**Description:**\n",
      "Upon entering the ruin, the party steps into a vast hall with stone pillars covered in moss. Shadows flicker, and ghostly figures appear, whispering secrets and lies. \n",
      "\n",
      "**Puzzle:**\n",
      "The players hear three distinct whispers, each offering a different clue:\n",
      "1. \"The key lies where light does not shine.\"\n",
      "2. \"Four walls yet one only holds the answer.\"\n",
      "3. \"What was once a tool now seals the way.\"\n",
      "\n",
      "**Solution:** \n",
      "The players must find the false wall in the far corner of the hall, which is hidden in shadows. They will need to interact with the wall until they notice a faint engraving of a KEY. A successful DC 15 Intelligence (Investigation) check allows them to identify the location. They then must press the engraving, triggering a compartment that opens, revealing a dusty key.\n",
      "\n",
      "**Trap:**\n",
      "If they fail to solve the whisper’s riddle after three attempts, the whispers grow louder, causing psychic damage (2d6) to each party member, and spectral hands grasp at their minds. \n",
      "\n",
      "---\n",
      "\n",
      "### Encounter 2: The Room of Reflection\n",
      "**Description:**\n",
      "The party enters a circular room filled with mirrors of different shapes and sizes. The reflections behave oddly: some show the party's past deeds, while others reveal their fears.\n",
      "\n",
      "**Puzzle:**\n",
      "A shimmering inscription in the center reads:\n",
      "“To move ahead, face what you dread,\n",
      "Only in truth can the path be led.”\n",
      "\n",
      "Each player must face a reflection that portrays their greatest fear or a guilty act from their past. They must roll a DC 12 Charisma saving throw. On a success, they see through the illusion and can manipulate their mirror to reveal a secret passage. On failure, they become frightened for one minute, seeing illusions of their fears manifest.\n",
      "\n",
      "**Solution:**\n",
      "Interacting with the true reflection allows the player to clear the mirror, revealing a door that leads further into the ruin.\n",
      "\n",
      "---\n",
      "\n",
      "### Encounter 3: The Guardian’s Riddle\n",
      "**Description:**\n",
      "After a winding path, the party arrives at a grand chamber where a stone guardian stands vigil. Its eyes glow with magic, and it blocks the way to the artifact, a radiant gem pulsating on a pedestal.\n",
      "\n",
      "**Riddle:**\n",
      "The guardian speaks, its voice like gravel, “Answer me this to pass: \n",
      "I can be cracked, made, told, and played. \n",
      "What am I?”\n",
      "\n",
      "**Solution:**\n",
      "The answer is “a joke.” \n",
      "\n",
      "**Combat:**\n",
      "If answered correctly, the guardian steps aside, allowing the party to claim the artifact. If the riddle is answered incorrectly three times, the guardian animates and attacks.\n",
      "    \n",
      "**Guardian Stats:**\n",
      "- Type: Construct\n",
      "- Hit Points: 75\n",
      "- Armor Class: 16\n",
      "- Attacks: Slam (1d10 + 5 bludgeoning damage)\n",
      "\n",
      "---\n",
      "\n",
      "### Conclusion:\n",
      "Once the party claims the artifact, they feel a surge of power. The gem is cursed—having waylaid souls that linger is a key to struggle against the darkness enveloping Eldrin's Hollow. \n",
      "\n",
      "**Choices:**\n",
      "1. **Destroy the Gem:** They risk unleashing the souls trapped within but could free the village from its curse.\n",
      "2. **Keep the Gem:** They can harness its power, potentially gaining new abilities, but face the ramifications of greed and darkness.\n",
      "\n",
      "### Epilogue:\n",
      "Upon returning to the village, the players will witness the effects of their choices. If they destroyed the gem, villagers greet them, grateful and free. If they kept it, shadows creep closer, indicating a growing menace. The fate of Eldrin's Hollow now rests in their hands, pushing them toward future adventures.\n",
      "\n",
      "---\n",
      "\n",
      "### Adventure Hook for Continuation:\n",
      "As they settle back into the village, omens swirl around them: unnatural storms arise, and whispers of ancient darkness return. A new journey awaits, perhaps into the origins of the artifact or the fate of the souls they left behind.\n",
      "\n",
      "**Experience Points:**\n",
      "- Successfully navigating encounters: 50 XP each\n",
      "- Solving puzzles: 25 XP each\n",
      "- Defeating the guardian: 100 XP each\n",
      "- Roleplaying and character development awards at DM’s discretion. \n",
      "\n",
      "**Total Adventure Length:** Approximately 4-6 hours.\n",
      "\n",
      "\n",
      "# Adventure: The Shadows of Blackthorn Hollow\n",
      "\n",
      "## Adventure Hook\n",
      "\n",
      "Rumors of a shadowy figure haunting the village of Blackthorn Hollow have spread. The townsfolk report that livestock is disappearing, and whispers fill the air about a haunted cave at the outskirts of the village. The local innkeeper, Old Man Garrick, offers a reward of 100 gold pieces for the party’s help in uncovering the truth.\n",
      "\n",
      "## Setting the Scene\n",
      "\n",
      "The village of Blackthorn Hollow is nestled between rolling hills and dark woods. An air of dread hangs over the place, with villagers casting wary glances at the twisted trees bordering the cave. Fog rolls in every evening, amplifying the eerie atmosphere.\n",
      "\n",
      "### Key Locations\n",
      "\n",
      "- **Village Square:** Center of town, where townsfolk gather to discuss the strange happenings.\n",
      "- **The Blackthorn Inn:** Run by Old Man Garrick, a grizzled veteran who has seen many things.\n",
      "- **The Cave of Whispers:** A dark cave located just outside the village filled with eerie echoes and shadowy figures.\n",
      "\n",
      "## Encounter 1: The Village Square\n",
      "\n",
      "As the party arrives, they observe villagers murmuring about recent events. Old Man Garrick approaches and details the situation. \n",
      "\n",
      "**NPCs:**\n",
      "- **Old Man Garrick:** Gives clues about strange lights seen at night and mentions the old tales of spirits guarding treasure in the cave.\n",
      "- **Eda the Herbalist:** Claims to have seen dark shapes moving near the cave and offers to sell healing potions (2 potions for 20 gp total).\n",
      "\n",
      "### Roleplaying Opportunities\n",
      "\n",
      "- Engage with villagers for clues.\n",
      "- Sample local food and drink to lift spirits (healing for 1d4 HP).\n",
      "\n",
      "### Optional Skill Challenge\n",
      "\n",
      "Convince a frightened villager to testify about their encounters (DC 12 Persuasion or Intimidation).\n",
      "\n",
      "## Encounter 2: The Journey to the Cave\n",
      "\n",
      "The party sets out towards the cave. As they approach, they must navigate through the dense forest. They can choose to take the obvious path through the woods or a more treacherous trail that promises greater rewards.\n",
      "\n",
      "### Environmental Hazards\n",
      "\n",
      "- **Obscured Visibility:** Fog makes it difficult to see. Characters must succeed on a DC 15 Wisdom (Perception) check to avoid getting lost or ambushed.\n",
      "- **Wild Animals:** Roll a random encounter (1d6):\n",
      "  - 1-3: A pack of hungry wolves (use stats for Wolves; numbers should be adjusted based on party size).\n",
      "  - 4-6: A wandering treant, curious but non-hostile.\n",
      "\n",
      "## Encounter 3: The Cave of Whispers\n",
      "\n",
      "Inside the cave, the atmosphere thickens. The walls are damp, and whispers echo vaguely, creating an unsettling effect. Shadows dance on the walls.\n",
      "\n",
      "### Map Layout\n",
      "- **Entrance:** Dark and damp, shifting shadows linger.\n",
      "- **Chamber 1:** Illuminated by faint phosphorescent fungi; a treasure chest partially buried in stone allows for a potential trap (DC 15 Dexterity Saving Throw to avoid a poison dart).\n",
      "- **Chamber 2 (The Source):** A ritual site surrounded by shadowy figures (Wraiths).\n",
      "\n",
      "### Main Encounter: Shadow Guardians\n",
      "\n",
      "**Creatures:**\n",
      "- **2 Wraiths** (Adjust based on party level; consider using lesser or shadow variants): They emerge as the party approaches the center of the chamber.\n",
      "  \n",
      "Each wraith can drain life. They are resistant to non-magical weapons and have the ability to manipulate shadows, causing disadvantage on attack rolls for targets within 10 feet.\n",
      "\n",
      "### Tactics:\n",
      "\n",
      "- Use shadows to divide and conquer the party.\n",
      "- Target spellcasters and healers first.\n",
      "\n",
      "### Treasure\n",
      "\n",
      "Upon defeating the Wraiths, the shadows dissipate, revealing the remnants of an ancient treasure hoard containing:\n",
      "\n",
      "- 300 gp in old coins and jeweled trinkets.\n",
      "- A **Cloak of Shadows** (grants advantage on Stealth checks).\n",
      "- An **Ancient Tome** detailing rituals for controlling shadows.\n",
      "\n",
      "## Conclusion\n",
      "\n",
      "With the wraiths defeated, the party can return to Blackthorn Hollow. The villagers are grateful, and Old Man Garrick rewards them with the promised gold. \n",
      "\n",
      "### Epilogue\n",
      "\n",
      "As the party leaves, the fog begins to lift. However, a dark silhouette lingers at the edge of the woods—hinting at more dangers yet to come. The villagers recover their livestock, but some whisper that the land is still haunted, and the party may need to return in the future.\n",
      "\n",
      "## Adventure Notes\n",
      "\n",
      "- Recommended Levels: 3-5.\n",
      "- The atmosphere is key; encourage role-playing and character interactions with the villagers.\n",
      "- Adapt encounters based on party size and experience.\n",
      "- Feel free to introduce subplots with the villagers to enrich player investment.\n",
      "\n",
      "### Rewards & Conclusion\n",
      "\n",
      "By defeating the wraiths, the party’s deeds echo through Blackthorn Hollow, and they gain not just riches, but the gratitude of the people—perhaps even allies should they return.\n",
      "\n",
      "---\n",
      "\n",
      "Feel free to adjust any details to better fit your party and game style!\n",
      "\n",
      "\n",
      "### Title: The Whispering Market\n",
      "\n",
      "**Adventure Level:** 3-5  \n",
      "**Setting:** A bustling, secretive market in the heart of a lively city\n",
      "\n",
      "#### Hook\n",
      "\n",
      "As the party arrives in the city of Eldermere, they hear murmurs of an underground market known only as the Whispering Market. Said to be filled with rare and enchanted goods, it operates on the edge of the law, trading in secrets and stolen treasures. However, rumors abound of a recent plague of missing persons among the vendors and patrons alike. Local officials are too afraid to act and whispers suggest an ancient evil awakens beneath the market’s surface.\n",
      "\n",
      "#### Objective\n",
      "\n",
      "Investigate the Whispering Market, uncover the secrets behind the missing individuals, and confront the source of the evil threatening the city.\n",
      "\n",
      "#### Encounters\n",
      "\n",
      "**1. Finding the Market**\n",
      "\n",
      "The players learn about the location of the market from a slightly unhinged vendor named **Grincle**, who sells colorful trinkets outside a tavern. He hints, \"If you seek what is lost, listen for the whispers after midnight!\" \n",
      "\n",
      "**Interaction:** Convincing Grincle to divulge more details requires a DC 13 Persuasion check. A failed check may result in Grincle becoming agitated or reciting a nonsensical riddle that leads to confusion.\n",
      "\n",
      "**2. Entering the Market**\n",
      "\n",
      "Once the party follows Grincle's advice, they find an inconspicuous alleyway. As they walk deeper, the surroundings quietly change, revealing the market full of shadowy stalls and ethereal lights. \n",
      "\n",
      "**Challenge:** To gain entry, each party member must successfully role-play a good-humored banter or provide a charm to the guards—a pair of intimidating figures known as the **Silent Watchers**. Failing to entertain or persuade may lead to a minor skirmish (2x CR 2 Shadow creatures).\n",
      "\n",
      "**3. The Vendors’ Secrets**\n",
      "\n",
      "As they explore, the party encounters various colorful characters:\n",
      "\n",
      "- **Lirael:** An elven diviner who can see snippets of the past and offers to recount the last moments of the missing individuals in exchange for a drop of their blood. \n",
      "\n",
      "- **Khadir the Illusionist:** A human vendor selling enchanted jewelry that broadcasts thoughts. He can provide information if players can entertain him for a few minutes with clever tales (DC 15 Persuasion or Performance check).\n",
      "\n",
      "**4. The Missing Person’s Trail**\n",
      "\n",
      "From the vendors, the players pick up clues leading them to **Meric**, a former guard who went missing while investigating complaints about the market.\n",
      "\n",
      "Meric’s last known whereabouts were near a stall selling **Obsidian Apples**, said to be cursed. The party discovers that a group of merchants is trafficking magical fruit that transforms consumers into mindless servitors.\n",
      "\n",
      "**5. Confronting the Darkness**\n",
      "\n",
      "After piecing together clues and narrowing down suspects, they find a hidden cellar beneath the stall where the apples are sold. Here lies **The Whisperer**, a dark spirit feeding on the fears of the city, possessing merchants to further its agenda of chaos.\n",
      "\n",
      "**Boss Encounter:** \n",
      "\n",
      "- **The Whisperer (CR 4)**: This creature can manipulate shadows, clouding the minds of its opponents. It favors illusion spells such as *Minor Illusion* and *Fear*. During the fight, it calls forth shadow minions (CR 1 Shadows) to distract the players.\n",
      "\n",
      "**6. Resolution**\n",
      "\n",
      "Upon defeating The Whisperer, the players release the merchants from their thrall, undoing the curse on the Obsidian Apples. The spirits of the missing individuals materialize, offering the party a heartfelt thank you and a boon of their choice—a temporary increase in wisdom (advantage on Wisdom saving throws) or a trinket that may reveal truths once per day.\n",
      "\n",
      "As the party emerges from the market, the city’s dawn breaks, and they hear the familiar call of Grincle, now lucid and ready to peddle again. \n",
      "\n",
      "#### Rewards\n",
      "\n",
      "- **Experience Points:** For combat and social interactions, award appropriate experience points, scaling with the number of creative solutions the players employed.\n",
      "  \n",
      "- **Magic Items:** A Charm of Whispers (allows the wielder to cast *Detect Thoughts* once per day), and an Obsidian Apple (grants a +1 bonus to Constitution checks for one week but has a lingering curse).\n",
      "\n",
      "- **Connections:** Knowing the merchants can open new adventures and insights in Eldermere, leading to possible future quests.\n",
      "\n",
      "### Conclusion\n",
      "\n",
      "The Whispering Market serves as a pivotal moment in the party’s journey, highlighting the need for balance between commerce, magic, and ethics in their world. They leave with the knowledge that shadows wiggle beneath the surface, and that true power lies in understanding the whispers of the past while forging a path into the future.\n",
      "\n",
      "\n"
     ]
    }
   ],
   "source": [
    "message = \"Write a D&D adventure no more than 1000 words.\"\n",
    "\n",
    "with trace(\"Parallel D&D adventures\"):\n",
    "    results = await asyncio.gather(\n",
    "        Runner.run(dm_agent1, message),\n",
    "        Runner.run(dm_agent2, message),\n",
    "        Runner.run(dm_agent3, message),\n",
    "    )\n",
    "\n",
    "outputs = [result.final_output for result in results]\n",
    "\n",
    "for output in outputs:\n",
    "    print(output + \"\\n\\n\")\n"
   ]
  },
  {
   "cell_type": "code",
   "execution_count": 11,
   "metadata": {},
   "outputs": [],
   "source": [
    "adventure_picker = Agent(\n",
    "    name=\"adventure_picker\",\n",
    "    instructions=\"You pick the best D&D adventure from the given options. \\\n",
    "Imagine you are a D&D player and fantasy fan and pick the adventure you would most like to play. \\\n",
    "Do not give an explanation; reply with the selected email only.\",\n",
    "    model=\"gpt-4o-mini\"\n",
    ")"
   ]
  },
  {
   "cell_type": "code",
   "execution_count": 12,
   "metadata": {},
   "outputs": [
    {
     "name": "stdout",
     "output_type": "stream",
     "text": [
      "Best D&D adventure email:\n",
      "### The Cursed Clocktower\n"
     ]
    }
   ],
   "source": [
    "message = \"Write a D&D adventure no more than 1000 words.\"\n",
    "\n",
    "with trace(\"Selection from dungeon masters\"):\n",
    "    results = await asyncio.gather(\n",
    "        Runner.run(dm_agent1, message),\n",
    "        Runner.run(dm_agent2, message),\n",
    "        Runner.run(dm_agent3, message),\n",
    "    )\n",
    "    outputs = [result.final_output for result in results]\n",
    "\n",
    "    emails = \"D&D adventure emails:\\n\\n\".join(outputs)\n",
    "\n",
    "    best = await Runner.run(adventure_picker, emails)\n",
    "\n",
    "    print(f\"Best D&D adventure email:\\n{best.final_output}\")\n"
   ]
  },
  {
   "cell_type": "markdown",
   "metadata": {},
   "source": [
    "Now go and check out the trace:\n",
    "\n",
    "https://platform.openai.com/traces"
   ]
  },
  {
   "cell_type": "markdown",
   "metadata": {},
   "source": [
    "## Part 2: use of tools\n",
    "\n",
    "Now we will add a tool to the mix.\n",
    "\n",
    "Remember all that json boilerplate and the `handle_tool_calls()` function with the if logic.."
   ]
  },
  {
   "cell_type": "code",
   "execution_count": 13,
   "metadata": {},
   "outputs": [],
   "source": [
    "model = \"gpt-4o-mini\"\n",
    "\n",
    "dm_agent1 = Agent(\n",
    "        name=\"Puzzling DM\",\n",
    "        instructions=instructions1,\n",
    "        model=model\n",
    ")\n",
    "\n",
    "dm_agent2 = Agent(\n",
    "        name=\"Monstrous DM\",\n",
    "        instructions=instructions2,\n",
    "        model=model\n",
    ")\n",
    "\n",
    "dm_agent3 = Agent(\n",
    "        name=\"Characterful DM\",\n",
    "        instructions=instructions3,\n",
    "        model=model\n",
    ")"
   ]
  },
  {
   "cell_type": "code",
   "execution_count": 14,
   "metadata": {},
   "outputs": [
    {
     "data": {
      "text/plain": [
       "Agent(name='Puzzling DM', instructions='You are an experienced D&D dungeon master and an expert in creating D&D adventures, You write brief, engaging D&D encounters featuring puzzles and traps. ', prompt=None, handoff_description=None, handoffs=[], model='gpt-4o-mini', model_settings=ModelSettings(temperature=None, top_p=None, frequency_penalty=None, presence_penalty=None, tool_choice=None, parallel_tool_calls=None, truncation=None, max_tokens=None, reasoning=None, metadata=None, store=None, include_usage=None, extra_query=None, extra_body=None, extra_headers=None, extra_args=None), tools=[], mcp_servers=[], mcp_config={}, input_guardrails=[], output_guardrails=[], output_type=None, hooks=None, tool_use_behavior='run_llm_again', reset_tool_choice=True)"
      ]
     },
     "execution_count": 14,
     "metadata": {},
     "output_type": "execute_result"
    }
   ],
   "source": [
    "dm_agent1"
   ]
  },
  {
   "cell_type": "markdown",
   "metadata": {},
   "source": [
    "## Steps 2 and 3: Tools and Agent interactions\n",
    "\n",
    "Remember all that boilerplate json?\n",
    "\n",
    "Simply wrap your function with the decorator `@function_tool`"
   ]
  },
  {
   "cell_type": "code",
   "execution_count": 15,
   "metadata": {},
   "outputs": [],
   "source": [
    "sender = \"quoc_pham@msn.com\"\n",
    "recipient = \"bqpham@outlook.com\"\n",
    "\n",
    "@function_tool\n",
    "def send_email(body: str):\n",
    "    \"\"\" Send out an email with the given body to all sales prospects \"\"\"\n",
    "    sg = sendgrid.SendGridAPIClient(api_key=os.environ.get('SENDGRID_API_KEY'))\n",
    "    from_email = Email(sender)  # Change to your verified sender\n",
    "    to_email = To(recipient)  # Change to your recipient\n",
    "    content = Content(\"text/plain\", body)\n",
    "    mail = Mail(from_email, to_email, \"Sales email\", content).get()\n",
    "    sg.client.mail.send.post(request_body=mail)\n",
    "    return {\"status\": \"success\"}"
   ]
  },
  {
   "cell_type": "markdown",
   "metadata": {},
   "source": [
    "### This has automatically been converted into a tool, with the boilerplate json created"
   ]
  },
  {
   "cell_type": "code",
   "execution_count": 16,
   "metadata": {},
   "outputs": [
    {
     "data": {
      "text/plain": [
       "FunctionTool(name='send_email', description='Send out an email with the given body to all sales prospects', params_json_schema={'properties': {'body': {'title': 'Body', 'type': 'string'}}, 'required': ['body'], 'title': 'send_email_args', 'type': 'object', 'additionalProperties': False}, on_invoke_tool=<function function_tool.<locals>._create_function_tool.<locals>._on_invoke_tool at 0x000001B4EB650220>, strict_json_schema=True, is_enabled=True)"
      ]
     },
     "execution_count": 16,
     "metadata": {},
     "output_type": "execute_result"
    }
   ],
   "source": [
    "# Let's look at it\n",
    "send_email"
   ]
  },
  {
   "cell_type": "markdown",
   "metadata": {},
   "source": [
    "### And you can also convert an Agent into a tool"
   ]
  },
  {
   "cell_type": "code",
   "execution_count": 18,
   "metadata": {},
   "outputs": [
    {
     "data": {
      "text/plain": [
       "FunctionTool(name='dm_agent1', description='Write a D&D adventure', params_json_schema={'properties': {'input': {'title': 'Input', 'type': 'string'}}, 'required': ['input'], 'title': 'dm_agent1_args', 'type': 'object', 'additionalProperties': False}, on_invoke_tool=<function function_tool.<locals>._create_function_tool.<locals>._on_invoke_tool at 0x000001B4EBBA8680>, strict_json_schema=True, is_enabled=True)"
      ]
     },
     "execution_count": 18,
     "metadata": {},
     "output_type": "execute_result"
    }
   ],
   "source": [
    "tool1 = dm_agent1.as_tool(tool_name=\"dm_agent1\", tool_description=\"Write a D&D adventure\")\n",
    "tool1"
   ]
  },
  {
   "cell_type": "markdown",
   "metadata": {},
   "source": [
    "### So now we can gather all the tools together:\n",
    "\n",
    "A tool for each of our 3 email-writing agents\n",
    "\n",
    "And a tool for our function to send emails"
   ]
  },
  {
   "cell_type": "code",
   "execution_count": 21,
   "metadata": {},
   "outputs": [
    {
     "data": {
      "text/plain": [
       "[FunctionTool(name='dm_agent1', description='Write a D&D adventure.', params_json_schema={'properties': {'input': {'title': 'Input', 'type': 'string'}}, 'required': ['input'], 'title': 'dm_agent1_args', 'type': 'object', 'additionalProperties': False}, on_invoke_tool=<function function_tool.<locals>._create_function_tool.<locals>._on_invoke_tool at 0x000001B4E99845E0>, strict_json_schema=True, is_enabled=True),\n",
       " FunctionTool(name='dm_agent2', description='Write a D&D adventure.', params_json_schema={'properties': {'input': {'title': 'Input', 'type': 'string'}}, 'required': ['input'], 'title': 'dm_agent2_args', 'type': 'object', 'additionalProperties': False}, on_invoke_tool=<function function_tool.<locals>._create_function_tool.<locals>._on_invoke_tool at 0x000001B4EC5E9760>, strict_json_schema=True, is_enabled=True),\n",
       " FunctionTool(name='dm_agent3', description='Write a D&D adventure.', params_json_schema={'properties': {'input': {'title': 'Input', 'type': 'string'}}, 'required': ['input'], 'title': 'dm_agent3_args', 'type': 'object', 'additionalProperties': False}, on_invoke_tool=<function function_tool.<locals>._create_function_tool.<locals>._on_invoke_tool at 0x000001B4EC5E8220>, strict_json_schema=True, is_enabled=True),\n",
       " FunctionTool(name='send_email', description='Send out an email with the given body to all sales prospects', params_json_schema={'properties': {'body': {'title': 'Body', 'type': 'string'}}, 'required': ['body'], 'title': 'send_email_args', 'type': 'object', 'additionalProperties': False}, on_invoke_tool=<function function_tool.<locals>._create_function_tool.<locals>._on_invoke_tool at 0x000001B4EB650220>, strict_json_schema=True, is_enabled=True)]"
      ]
     },
     "execution_count": 21,
     "metadata": {},
     "output_type": "execute_result"
    }
   ],
   "source": [
    "description = \"Write a D&D adventure.\"\n",
    "\n",
    "tool1 = dm_agent1.as_tool(tool_name=\"dm_agent1\", tool_description=description)\n",
    "tool2 = dm_agent2.as_tool(tool_name=\"dm_agent2\", tool_description=description)\n",
    "tool3 = dm_agent3.as_tool(tool_name=\"dm_agent3\", tool_description=description)\n",
    "\n",
    "tools = [tool1, tool2, tool3, send_email]\n",
    "\n",
    "tools"
   ]
  },
  {
   "cell_type": "markdown",
   "metadata": {},
   "source": [
    "## And now it's time for our Sales Manager - our planning agent"
   ]
  },
  {
   "cell_type": "code",
   "execution_count": 22,
   "metadata": {},
   "outputs": [],
   "source": [
    "instructions =\"You are an experienced D&D dungeon master. You use the tools given to you to generate great D&D adventures. \\\n",
    "You never generate D&D adventures yourself; you always use the tools. \\\n",
    "You try all 3 dm_agent tools once before choosing the best one. \\\n",
    "You pick the single best adventure and use the send_email tool to send the best adventure (and only the best adventure) to the user.\"\n",
    "\n",
    "adventure_picker = Agent(\n",
    "    name=\"Adventure Picker\",\n",
    "    instructions=instructions,\n",
    "    tools=tools,\n",
    "    model=\"gpt-4o-mini\"\n",
    ")\n",
    "\n",
    "message = \"Send a D&D adventure email addressed to 'Dear DM'\"\n",
    "\n",
    "\n",
    "with trace(\"Adventure Picker\"):\n",
    "    result = await Runner.run(adventure_picker, message)"
   ]
  },
  {
   "cell_type": "markdown",
   "metadata": {},
   "source": [
    "<table style=\"margin: 0; text-align: left; width:100%\">\n",
    "    <tr>\n",
    "        <td style=\"width: 150px; height: 150px; vertical-align: middle;\">\n",
    "            <img src=\"../assets/stop.png\" width=\"150\" height=\"150\" style=\"display: block;\" />\n",
    "        </td>\n",
    "        <td>\n",
    "            <h2 style=\"color:#ff7800;\">Wait - you didn't get an email??</h2>\n",
    "            <span style=\"color:#ff7800;\">With much thanks to student Chris S. for describing his issue and fixes. \n",
    "            If you don't receive an email after running the prior cell, here are some things to check: <br/>\n",
    "            First, check your Spam folder! Several students have missed that the emails arrived in Spam!<br/>Second, print(result) and see if you are receiving errors about SSL. \n",
    "            If you're receiving SSL errors, then please check out theses <a href=\"https://chatgpt.com/share/680620ec-3b30-8012-8c26-ca86693d0e3d\">networking tips</a> and see the note in the next cell. Also look at the trace in OpenAI, and investigate on the SendGrid website, to hunt for clues. Let me know if I can help!\n",
    "            </span>\n",
    "        </td>\n",
    "    </tr>\n",
    "</table>"
   ]
  },
  {
   "cell_type": "markdown",
   "metadata": {},
   "source": [
    "### And one more suggestion to send emails from student Oleksandr on Windows 11:\n",
    "\n",
    "If you are getting certificate SSL errors, then:  \n",
    "Run this in a terminal: `uv pip install --upgrade certifi`\n",
    "\n",
    "Then run this code:\n",
    "```python\n",
    "import certifi\n",
    "import os\n",
    "os.environ['SSL_CERT_FILE'] = certifi.where()\n",
    "```\n",
    "\n",
    "Thank you Oleksandr!"
   ]
  },
  {
   "cell_type": "markdown",
   "metadata": {},
   "source": [
    "## Remember to check the trace\n",
    "\n",
    "https://platform.openai.com/traces\n",
    "\n",
    "And then check your email!!\n"
   ]
  },
  {
   "cell_type": "markdown",
   "metadata": {},
   "source": [
    "### Handoffs represent a way an agent can delegate to an agent, passing control to it\n",
    "\n",
    "Handoffs and Agents-as-tools are similar:\n",
    "\n",
    "In both cases, an Agent can collaborate with another Agent\n",
    "\n",
    "With tools, control passes back\n",
    "\n",
    "With handoffs, control passes across\n",
    "\n"
   ]
  },
  {
   "cell_type": "code",
   "execution_count": 23,
   "metadata": {},
   "outputs": [],
   "source": [
    "\n",
    "subject_instructions = \"You can write a subject any kind of email. \\\n",
    "You are given a message and you need to write a subject for an email that is likely to get a read and a response.\"\n",
    "\n",
    "html_instructions = \"You can convert a text email body to an HTML email body. \\\n",
    "You are given a text email body which might have some markdown \\\n",
    "and you need to convert it to an HTML email body with simple, clear, compelling layout and design.\"\n",
    "\n",
    "subject_writer = Agent(name=\"Email subject writer\", instructions=subject_instructions, model=\"gpt-4o-mini\")\n",
    "subject_tool = subject_writer.as_tool(tool_name=\"subject_writer\", tool_description=\"Write a subject for any kind of email\")\n",
    "\n",
    "html_converter = Agent(name=\"HTML email body converter\", instructions=html_instructions, model=\"gpt-4o-mini\")\n",
    "html_tool = html_converter.as_tool(tool_name=\"html_converter\",tool_description=\"Convert a text email body to an HTML email body\")\n"
   ]
  },
  {
   "cell_type": "code",
   "execution_count": 25,
   "metadata": {},
   "outputs": [],
   "source": [
    "@function_tool\n",
    "def send_html_email(subject: str, html_body: str) -> Dict[str, str]:\n",
    "    \"\"\" Send out an email with the given subject and HTML body to all sales prospects \"\"\"\n",
    "    sg = sendgrid.SendGridAPIClient(api_key=os.environ.get('SENDGRID_API_KEY'))\n",
    "    from_email = Email(sender)  # Change to your verified sender\n",
    "    to_email = To(recipient)  # Change to your recipient\n",
    "    content = Content(\"text/html\", html_body)\n",
    "    mail = Mail(from_email, to_email, subject, content).get()\n",
    "    sg.client.mail.send.post(request_body=mail)\n",
    "    return {\"status\": \"success\"}"
   ]
  },
  {
   "cell_type": "code",
   "execution_count": 26,
   "metadata": {},
   "outputs": [],
   "source": [
    "tools = [subject_tool, html_tool, send_html_email]"
   ]
  },
  {
   "cell_type": "code",
   "execution_count": 27,
   "metadata": {},
   "outputs": [
    {
     "data": {
      "text/plain": [
       "[FunctionTool(name='subject_writer', description='Write a subject for any kind of email', params_json_schema={'properties': {'input': {'title': 'Input', 'type': 'string'}}, 'required': ['input'], 'title': 'subject_writer_args', 'type': 'object', 'additionalProperties': False}, on_invoke_tool=<function function_tool.<locals>._create_function_tool.<locals>._on_invoke_tool at 0x000001B4EC5585E0>, strict_json_schema=True, is_enabled=True),\n",
       " FunctionTool(name='html_converter', description='Convert a text email body to an HTML email body', params_json_schema={'properties': {'input': {'title': 'Input', 'type': 'string'}}, 'required': ['input'], 'title': 'html_converter_args', 'type': 'object', 'additionalProperties': False}, on_invoke_tool=<function function_tool.<locals>._create_function_tool.<locals>._on_invoke_tool at 0x000001B4EBC074C0>, strict_json_schema=True, is_enabled=True),\n",
       " FunctionTool(name='send_html_email', description='Send out an email with the given subject and HTML body to all sales prospects', params_json_schema={'properties': {'subject': {'title': 'Subject', 'type': 'string'}, 'html_body': {'title': 'Html Body', 'type': 'string'}}, 'required': ['subject', 'html_body'], 'title': 'send_html_email_args', 'type': 'object', 'additionalProperties': False}, on_invoke_tool=<function function_tool.<locals>._create_function_tool.<locals>._on_invoke_tool at 0x000001B4E995BC40>, strict_json_schema=True, is_enabled=True)]"
      ]
     },
     "execution_count": 27,
     "metadata": {},
     "output_type": "execute_result"
    }
   ],
   "source": [
    "tools"
   ]
  },
  {
   "cell_type": "code",
   "execution_count": 28,
   "metadata": {},
   "outputs": [],
   "source": [
    "instructions =\"You are an email formatter and sender. You receive the body of an email to be sent. \\\n",
    "You first use the subject_writer tool to write a subject for the email, then use the html_converter tool to convert the body to HTML. \\\n",
    "Finally, you use the send_html_email tool to send the email with the subject and HTML body.\"\n",
    "\n",
    "\n",
    "emailer_agent = Agent(\n",
    "    name=\"Email Manager\",\n",
    "    instructions=instructions,\n",
    "    tools=tools,\n",
    "    model=\"gpt-4o-mini\",\n",
    "    handoff_description=\"Convert an email to HTML and send it\")\n"
   ]
  },
  {
   "cell_type": "markdown",
   "metadata": {},
   "source": [
    "### Now we have 3 tools and 1 handoff"
   ]
  },
  {
   "cell_type": "code",
   "execution_count": 29,
   "metadata": {},
   "outputs": [
    {
     "name": "stdout",
     "output_type": "stream",
     "text": [
      "[FunctionTool(name='dm_agent1', description='Write a D&D adventure.', params_json_schema={'properties': {'input': {'title': 'Input', 'type': 'string'}}, 'required': ['input'], 'title': 'dm_agent1_args', 'type': 'object', 'additionalProperties': False}, on_invoke_tool=<function function_tool.<locals>._create_function_tool.<locals>._on_invoke_tool at 0x000001B4E99845E0>, strict_json_schema=True, is_enabled=True), FunctionTool(name='dm_agent2', description='Write a D&D adventure.', params_json_schema={'properties': {'input': {'title': 'Input', 'type': 'string'}}, 'required': ['input'], 'title': 'dm_agent2_args', 'type': 'object', 'additionalProperties': False}, on_invoke_tool=<function function_tool.<locals>._create_function_tool.<locals>._on_invoke_tool at 0x000001B4EC5E9760>, strict_json_schema=True, is_enabled=True), FunctionTool(name='dm_agent3', description='Write a D&D adventure.', params_json_schema={'properties': {'input': {'title': 'Input', 'type': 'string'}}, 'required': ['input'], 'title': 'dm_agent3_args', 'type': 'object', 'additionalProperties': False}, on_invoke_tool=<function function_tool.<locals>._create_function_tool.<locals>._on_invoke_tool at 0x000001B4EC5E8220>, strict_json_schema=True, is_enabled=True)]\n",
      "[Agent(name='Email Manager', instructions='You are an email formatter and sender. You receive the body of an email to be sent. You first use the subject_writer tool to write a subject for the email, then use the html_converter tool to convert the body to HTML. Finally, you use the send_html_email tool to send the email with the subject and HTML body.', prompt=None, handoff_description='Convert an email to HTML and send it', handoffs=[], model='gpt-4o-mini', model_settings=ModelSettings(temperature=None, top_p=None, frequency_penalty=None, presence_penalty=None, tool_choice=None, parallel_tool_calls=None, truncation=None, max_tokens=None, reasoning=None, metadata=None, store=None, include_usage=None, extra_query=None, extra_body=None, extra_headers=None, extra_args=None), tools=[FunctionTool(name='subject_writer', description='Write a subject for any kind of email', params_json_schema={'properties': {'input': {'title': 'Input', 'type': 'string'}}, 'required': ['input'], 'title': 'subject_writer_args', 'type': 'object', 'additionalProperties': False}, on_invoke_tool=<function function_tool.<locals>._create_function_tool.<locals>._on_invoke_tool at 0x000001B4EC5585E0>, strict_json_schema=True, is_enabled=True), FunctionTool(name='html_converter', description='Convert a text email body to an HTML email body', params_json_schema={'properties': {'input': {'title': 'Input', 'type': 'string'}}, 'required': ['input'], 'title': 'html_converter_args', 'type': 'object', 'additionalProperties': False}, on_invoke_tool=<function function_tool.<locals>._create_function_tool.<locals>._on_invoke_tool at 0x000001B4EBC074C0>, strict_json_schema=True, is_enabled=True), FunctionTool(name='send_html_email', description='Send out an email with the given subject and HTML body to all sales prospects', params_json_schema={'properties': {'subject': {'title': 'Subject', 'type': 'string'}, 'html_body': {'title': 'Html Body', 'type': 'string'}}, 'required': ['subject', 'html_body'], 'title': 'send_html_email_args', 'type': 'object', 'additionalProperties': False}, on_invoke_tool=<function function_tool.<locals>._create_function_tool.<locals>._on_invoke_tool at 0x000001B4E995BC40>, strict_json_schema=True, is_enabled=True)], mcp_servers=[], mcp_config={}, input_guardrails=[], output_guardrails=[], output_type=None, hooks=None, tool_use_behavior='run_llm_again', reset_tool_choice=True)]\n"
     ]
    }
   ],
   "source": [
    "tools = [tool1, tool2, tool3]\n",
    "handoffs = [emailer_agent]\n",
    "print(tools)\n",
    "print(handoffs)"
   ]
  },
  {
   "cell_type": "code",
   "execution_count": null,
   "metadata": {},
   "outputs": [
    {
     "ename": "",
     "evalue": "",
     "output_type": "error",
     "traceback": [
      "\u001b[1;31mThe Kernel crashed while executing code in the current cell or a previous cell. \n",
      "\u001b[1;31mPlease review the code in the cell(s) to identify a possible cause of the failure. \n",
      "\u001b[1;31mClick <a href='https://aka.ms/vscodeJupyterKernelCrash'>here</a> for more info. \n",
      "\u001b[1;31mView Jupyter <a href='command:jupyter.viewOutput'>log</a> for further details."
     ]
    }
   ],
   "source": [
    "adventure_creator_instructions = \"You are an experienced D&D Dungeon Master. \\\n",
    "You use the tools given to you to generate D&D adventures. \\\n",
    "You never generate adventures yourself; you always use the tools. \\\n",
    "You try all 3 dm tools at least once before choosing the best one. \\\n",
    "You can use the tools multiple times if you're not satisfied with the results from the first try. \\\n",
    "You select the single best D&D adventure using your own judgement of which adventure will be most enjoyable. \\\n",
    "After picking the adventure, you handoff to the Email Manager agent to format and send the adventure.\"\n",
    "\n",
    "\n",
    "adventure_creator = Agent(\n",
    "    name=\"Sales Manager\",\n",
    "    instructions=adventure_creator_instructions,\n",
    "    tools=tools,\n",
    "    handoffs=handoffs,\n",
    "    model=\"gpt-4o-mini\")\n",
    "\n",
    "message = \"Send out an adventure mail addressed to Dear DM from AI\"\n",
    "\n",
    "with trace(\"Automated Adventure Creator\"):\n",
    "    result = await Runner.run(adventure_creator, message)"
   ]
  },
  {
   "cell_type": "markdown",
   "metadata": {},
   "source": [
    "### Remember to check the trace\n",
    "\n",
    "https://platform.openai.com/traces\n",
    "\n",
    "And then check your email!!"
   ]
  },
  {
   "cell_type": "markdown",
   "metadata": {},
   "source": [
    "<table style=\"margin: 0; text-align: left; width:100%\">\n",
    "    <tr>\n",
    "        <td style=\"width: 150px; height: 150px; vertical-align: middle;\">\n",
    "            <img src=\"../assets/exercise.png\" width=\"150\" height=\"150\" style=\"display: block;\" />\n",
    "        </td>\n",
    "        <td>\n",
    "            <h2 style=\"color:#ff7800;\">Exercise</h2>\n",
    "            <span style=\"color:#ff7800;\">Can you identify the Agentic design patterns that were used here?<br/>\n",
    "            What is the 1 line that changed this from being an Agentic \"workflow\" to \"agent\" under Anthropic's definition?<br/>\n",
    "            Try adding in more tools and Agents! You could have tools that handle the mail merge to send to a list.<br/><br/>\n",
    "            HARD CHALLENGE: research how you can have SendGrid call a Callback webhook when a user replies to an email,\n",
    "            Then have the SDR respond to keep the conversation going! This may require some \"vibe coding\" 😂\n",
    "            </span>\n",
    "        </td>\n",
    "    </tr>\n",
    "</table>"
   ]
  },
  {
   "cell_type": "markdown",
   "metadata": {},
   "source": [
    "<table style=\"margin: 0; text-align: left; width:100%\">\n",
    "    <tr>\n",
    "        <td style=\"width: 150px; height: 150px; vertical-align: middle;\">\n",
    "            <img src=\"../assets/business.png\" width=\"150\" height=\"150\" style=\"display: block;\" />\n",
    "        </td>\n",
    "        <td>\n",
    "            <h2 style=\"color:#00bfff;\">Commercial implications</h2>\n",
    "            <span style=\"color:#00bfff;\">This is immediately applicable to Sales Automation; but more generally this could be applied to  end-to-end automation of any business process through conversations and tools. Think of ways you could apply an Agent solution\n",
    "            like this in your day job.\n",
    "            </span>\n",
    "        </td>\n",
    "    </tr>\n",
    "</table>"
   ]
  },
  {
   "cell_type": "markdown",
   "metadata": {},
   "source": [
    "## Extra note:\n",
    "\n",
    "Google has released their Agent Development Kit (ADK). It's not yet got the traction of the other frameworks on this course, but it's getting some attention. It's interesting to note that it looks quite similar to OpenAI Agents SDK. To give you a preview, here's a peak at sample code from ADK:\n",
    "\n",
    "```\n",
    "root_agent = Agent(\n",
    "    name=\"weather_time_agent\",\n",
    "    model=\"gemini-2.0-flash\",\n",
    "    description=\"Agent to answer questions about the time and weather in a city.\",\n",
    "    instruction=\"You are a helpful agent who can answer user questions about the time and weather in a city.\",\n",
    "    tools=[get_weather, get_current_time]\n",
    ")\n",
    "```\n",
    "\n",
    "Well, that looks familiar!\n",
    "\n",
    "And a student has contributed a customer care agent in community_contributions that uses ADK."
   ]
  },
  {
   "cell_type": "markdown",
   "metadata": {},
   "source": []
  }
 ],
 "metadata": {
  "kernelspec": {
   "display_name": ".venv",
   "language": "python",
   "name": "python3"
  },
  "language_info": {
   "codemirror_mode": {
    "name": "ipython",
    "version": 3
   },
   "file_extension": ".py",
   "mimetype": "text/x-python",
   "name": "python",
   "nbconvert_exporter": "python",
   "pygments_lexer": "ipython3",
   "version": "3.12.9"
  }
 },
 "nbformat": 4,
 "nbformat_minor": 2
}
