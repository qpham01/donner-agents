{
 "cells": [
  {
   "cell_type": "markdown",
   "metadata": {},
   "source": [
    "## Welcome to the Second Lab - Week 1, Day 3\n",
    "\n",
    "Today we will work with lots of models! This is a way to get comfortable with APIs."
   ]
  },
  {
   "cell_type": "markdown",
   "metadata": {},
   "source": [
    "<table style=\"margin: 0; text-align: left; width:100%\">\n",
    "    <tr>\n",
    "        <td style=\"width: 150px; height: 150px; vertical-align: middle;\">\n",
    "            <img src=\"../assets/stop.png\" width=\"150\" height=\"150\" style=\"display: block;\" />\n",
    "        </td>\n",
    "        <td>\n",
    "            <h2 style=\"color:#ff7800;\">Important point - please read</h2>\n",
    "            <span style=\"color:#ff7800;\">The way I collaborate with you may be different to other courses you've taken. I prefer not to type code while you watch. Rather, I execute Jupyter Labs, like this, and give you an intuition for what's going on. My suggestion is that you carefully execute this yourself, <b>after</b> watching the lecture. Add print statements to understand what's going on, and then come up with your own variations.<br/><br/>If you have time, I'd love it if you submit a PR for changes in the community_contributions folder - instructions in the resources. Also, if you have a Github account, use this to showcase your variations. Not only is this essential practice, but it demonstrates your skills to others, including perhaps future clients or employers...\n",
    "            </span>\n",
    "        </td>\n",
    "    </tr>\n",
    "</table>"
   ]
  },
  {
   "cell_type": "code",
   "execution_count": 1,
   "metadata": {},
   "outputs": [],
   "source": [
    "# Start with imports - ask ChatGPT to explain any package that you don't know\n",
    "\n",
    "import os\n",
    "import json\n",
    "from dotenv import load_dotenv\n",
    "from openai import OpenAI\n",
    "from anthropic import Anthropic\n",
    "from IPython.display import Markdown, display"
   ]
  },
  {
   "cell_type": "code",
   "execution_count": 2,
   "metadata": {},
   "outputs": [
    {
     "data": {
      "text/plain": [
       "True"
      ]
     },
     "execution_count": 2,
     "metadata": {},
     "output_type": "execute_result"
    }
   ],
   "source": [
    "# Always remember to do this!\n",
    "load_dotenv(override=True)"
   ]
  },
  {
   "cell_type": "code",
   "execution_count": 3,
   "metadata": {},
   "outputs": [
    {
     "name": "stdout",
     "output_type": "stream",
     "text": [
      "OpenAI API Key exists and begins sk-proj-\n",
      "Anthropic API Key exists and begins sk-ant-\n",
      "Google API Key exists and begins AI\n",
      "DeepSeek API Key not set (and this is optional)\n",
      "Groq API Key exists and begins gsk_\n"
     ]
    }
   ],
   "source": [
    "# Print the key prefixes to help with any debugging\n",
    "\n",
    "openai_api_key = os.getenv('OPENAI_API_KEY')\n",
    "anthropic_api_key = os.getenv('ANTHROPIC_API_KEY')\n",
    "google_api_key = os.getenv('GOOGLE_API_KEY')\n",
    "deepseek_api_key = os.getenv('DEEPSEEK_API_KEY')\n",
    "groq_api_key = os.getenv('GROQ_API_KEY')\n",
    "\n",
    "if openai_api_key:\n",
    "    print(f\"OpenAI API Key exists and begins {openai_api_key[:8]}\")\n",
    "else:\n",
    "    print(\"OpenAI API Key not set\")\n",
    "    \n",
    "if anthropic_api_key:\n",
    "    print(f\"Anthropic API Key exists and begins {anthropic_api_key[:7]}\")\n",
    "else:\n",
    "    print(\"Anthropic API Key not set (and this is optional)\")\n",
    "\n",
    "if google_api_key:\n",
    "    print(f\"Google API Key exists and begins {google_api_key[:2]}\")\n",
    "else:\n",
    "    print(\"Google API Key not set (and this is optional)\")\n",
    "\n",
    "if deepseek_api_key:\n",
    "    print(f\"DeepSeek API Key exists and begins {deepseek_api_key[:3]}\")\n",
    "else:\n",
    "    print(\"DeepSeek API Key not set (and this is optional)\")\n",
    "\n",
    "if groq_api_key:\n",
    "    print(f\"Groq API Key exists and begins {groq_api_key[:4]}\")\n",
    "else:\n",
    "    print(\"Groq API Key not set (and this is optional)\")"
   ]
  },
  {
   "cell_type": "code",
   "execution_count": 10,
   "metadata": {},
   "outputs": [],
   "source": [
    "request = \"Please come up with a challenging, nuanced question that I can ask a number of LLMs to evaluate their intelligence. \"\n",
    "request += \"Answer only with the question, no explanation.\"\n",
    "messages = [{\"role\": \"user\", \"content\": request}]"
   ]
  },
  {
   "cell_type": "code",
   "execution_count": 11,
   "metadata": {},
   "outputs": [
    {
     "data": {
      "text/plain": [
       "[{'role': 'user',\n",
       "  'content': 'Please come up with a challenging, nuanced question that I can ask a number of LLMs to evaluate their intelligence. Answer only with the question, no explanation.'}]"
      ]
     },
     "execution_count": 11,
     "metadata": {},
     "output_type": "execute_result"
    }
   ],
   "source": [
    "messages"
   ]
  },
  {
   "cell_type": "code",
   "execution_count": 12,
   "metadata": {},
   "outputs": [
    {
     "data": {
      "text/markdown": [
       "If you were tasked with designing a society that balances individual freedoms with collective responsibility, what foundational principles would you prioritize, and how would you address potential conflicts between them?"
      ],
      "text/plain": [
       "<IPython.core.display.Markdown object>"
      ]
     },
     "metadata": {},
     "output_type": "display_data"
    }
   ],
   "source": [
    "openai = OpenAI()\n",
    "response = openai.chat.completions.create(\n",
    "    model=\"gpt-4o-mini\",\n",
    "    messages=messages,\n",
    ")\n",
    "question = response.choices[0].message.content\n",
    "display(Markdown(question))\n"
   ]
  },
  {
   "cell_type": "code",
   "execution_count": 4,
   "metadata": {},
   "outputs": [],
   "source": [
    "def pr(output: str):\n",
    "    display(Markdown(output))"
   ]
  },
  {
   "cell_type": "code",
   "execution_count": 15,
   "metadata": {},
   "outputs": [],
   "source": [
    "\n",
    "question1 = \"What strategies should BRICS and BRICS partner countries besides China adopt to catch up as much as possible with China and the US in leveraging AI to boost wealth, productivity, economic growth, and quality of life?\"\n",
    "question2 = \"How would you reconcile the apparent tension between the principles of utilitarianism and deontological ethics in a real-world scenario involving a moral dilemma, and what criteria would you use to determine the most ethical course of action?\"\n",
    "question3 = \"What will life with AI be like in 2030?\"\n",
    "question = question3\n",
    "    \n",
    "competitors = []\n",
    "answers = []\n",
    "messages = [{\"role\": \"user\", \"content\": question}]"
   ]
  },
  {
   "cell_type": "code",
   "execution_count": 16,
   "metadata": {},
   "outputs": [
    {
     "data": {
      "text/markdown": [
       "Predicting life with AI in 2030 involves a range of possibilities across various aspects of society. Here are some projections based on trends and advancements as of my last knowledge update:\n",
       "\n",
       "1. **Work and Employment**: AI is expected to significantly change the nature of work. Many routine and repetitive tasks may be automated, allowing humans to focus on more complex, creative, and interpersonal activities. While some jobs may become obsolete, new roles may emerge, necessitating a shift in workforce skills and education. Lifelong learning will likely become a norm as people adapt to new technologies.\n",
       "\n",
       "2. **Healthcare**: AI could greatly enhance healthcare by providing advanced diagnostics, personalized treatment plans, and continuous monitoring through wearable devices. AI could assist in drug discovery, predicting outbreaks, and managing patient care, leading to more efficient and effective healthcare systems.\n",
       "\n",
       "3. **Transportation**: Autonomous vehicles may be more prevalent, transforming personal and public transportation. This could lead to reduced traffic accidents, more efficient traffic flows, and changes in urban planning. The integration of AI in logistics and delivery systems could streamline supply chains.\n",
       "\n",
       "4. **Smart Cities**: Urban areas may become increasingly \"smart,\" using AI to optimize resources, manage energy consumption, and improve public services such as waste management and emergency response. This could enhance the quality of life through better infrastructure and services.\n",
       "\n",
       "5. **Personal Life**: AI could become a more integrated part of daily life, with virtual assistants managing schedules, home automation systems improving energy efficiency, and AI-driven tools aiding in decision-making. AI might also play a role in mental health support through chatbots and interventions.\n",
       "\n",
       "6. **Privacy and Ethics**: The increased use of AI will likely raise significant ethical and privacy concerns. Issues around data security, surveillance, bias in algorithms, and the accountability of AI systems will be paramount. Societies may need to establish new regulations and frameworks to address these challenges.\n",
       "\n",
       "7. **Education**: AI could personalize learning experiences, offering tailored educational resources and support to students based on their individual needs and learning styles. This may lead to more effective educational outcomes and greater accessibility.\n",
       "\n",
       "8. **Social Interaction**: Human interactions may be influenced by AI-mediated communication tools, which could enhance connectivity but also raise concerns about authenticity and the quality of interpersonal relationships.\n",
       "\n",
       "9. **Creative Industries**: AI might also impact creativity, as AI-generated art, music, and literature become more common. This could lead to new forms of collaboration between humans and machines in creative processes.\n",
       "\n",
       "Overall, while AI has the potential to enhance many aspects of life by 2030, it will also pose significant societal challenges that will need to be addressed thoughtfully and proactively. The focus will likely be on finding a balance between leveraging AI's benefits while mitigating risks and ensuring ethical use."
      ],
      "text/plain": [
       "<IPython.core.display.Markdown object>"
      ]
     },
     "metadata": {},
     "output_type": "display_data"
    }
   ],
   "source": [
    "# The API we know well\n",
    "\n",
    "model_name = \"gpt-4o-mini\"\n",
    "\n",
    "response = openai.chat.completions.create(model=model_name, messages=messages)\n",
    "answer = response.choices[0].message.content\n",
    "\n",
    "display(Markdown(answer))\n",
    "competitors.append(model_name)\n",
    "answers.append(answer)"
   ]
  },
  {
   "cell_type": "code",
   "execution_count": 19,
   "metadata": {},
   "outputs": [
    {
     "data": {
      "text/markdown": [
       "# Life with AI in 2030: A Possible Perspective\n",
       "\n",
       "By 2030, AI will likely be more deeply integrated into daily life, though not necessarily in the sci-fi ways often depicted. Some possibilities include:\n",
       "\n",
       "- More personalized and proactive digital assistance (managing schedules, health monitoring)\n",
       "- Widespread AI-assisted healthcare diagnostics and treatment planning\n",
       "- Educational systems that adapt to individual learning styles\n",
       "- More automated workplace tools handling routine tasks\n",
       "- Smarter homes optimizing energy use and anticipating needs\n",
       "\n",
       "These developments will bring both benefits (efficiency, personalization) and challenges (privacy concerns, digital divides, job transitions). The actual outcome will depend on regulatory choices, technological progress, and societal values that shape AI development over the coming years.\n",
       "\n",
       "What aspects of AI's future role are you most curious about?"
      ],
      "text/plain": [
       "<IPython.core.display.Markdown object>"
      ]
     },
     "metadata": {},
     "output_type": "display_data"
    }
   ],
   "source": [
    "# Anthropic has a slightly different API, and Max Tokens is required\n",
    "\n",
    "model_name = \"claude-3-7-sonnet-latest\"\n",
    "\n",
    "claude = Anthropic()\n",
    "response = claude.messages.create(model=model_name, messages=messages, max_tokens=2000)\n",
    "answer = response.content[0].text\n",
    "\n",
    "display(Markdown(answer))\n",
    "competitors.append(model_name)\n",
    "answers.append(answer)"
   ]
  },
  {
   "cell_type": "code",
   "execution_count": 18,
   "metadata": {},
   "outputs": [
    {
     "data": {
      "text/markdown": [
       "Life with AI in 2030 is poised to be significantly different from today, touching nearly every aspect of our lives. Here's a breakdown of what we might expect:\n",
       "\n",
       "**1. Enhanced Personalization & Automation:**\n",
       "\n",
       "*   **Personalized Experiences:** AI will curate more personalized experiences in entertainment, education, healthcare, and retail. Think:\n",
       "    *   AI-powered tutors adapting to your learning style.\n",
       "    *   Movie recommendations that truly match your taste, going beyond just genre.\n",
       "    *   Personalized health plans based on your DNA and lifestyle.\n",
       "*   **Smart Homes & Cities:** Our homes and cities will be smarter, more efficient, and more responsive to our needs.\n",
       "    *   AI optimizing energy consumption, adjusting lighting, and controlling security systems.\n",
       "    *   Smart traffic management reducing congestion and pollution.\n",
       "    *   Predictive maintenance for infrastructure, preventing breakdowns.\n",
       "*   **Automation of Mundane Tasks:** AI will automate more routine tasks in both our personal and professional lives.\n",
       "    *   Automated scheduling, email management, and travel planning.\n",
       "    *   Increased use of robots for cleaning, gardening, and deliveries.\n",
       "\n",
       "**2. The Workplace Transformed:**\n",
       "\n",
       "*   **Collaboration with AI:** AI will become a ubiquitous tool for collaboration, assisting with tasks, providing insights, and automating repetitive processes.\n",
       "*   **New Job Roles:** While some jobs may be automated, new roles will emerge in areas like AI development, maintenance, ethics, and data science.\n",
       "*   **Upskilling & Reskilling:** Continuous learning and adaptation will be crucial as AI reshapes the job market. There will be more emphasis on skills that AI can't easily replicate, such as creativity, critical thinking, emotional intelligence, and complex problem-solving.\n",
       "*   **Augmented Productivity:** AI-powered tools will augment human capabilities, increasing productivity and allowing workers to focus on higher-value tasks.\n",
       "\n",
       "**3. Healthcare Revolutionized:**\n",
       "\n",
       "*   **Early Disease Detection:** AI will analyze medical images and data to detect diseases earlier and more accurately, leading to better treatment outcomes.\n",
       "*   **Personalized Medicine:** AI will tailor treatments to individual patients based on their genetic makeup, lifestyle, and medical history.\n",
       "*   **Drug Discovery & Development:** AI will accelerate the drug discovery process, reducing the time and cost required to bring new therapies to market.\n",
       "*   **Remote Patient Monitoring:** AI-powered devices will enable continuous monitoring of patients' health, allowing for early intervention and preventing hospital readmissions.\n",
       "\n",
       "**4. Enhanced Accessibility & Inclusivity:**\n",
       "\n",
       "*   **AI-Powered Assistive Technologies:** AI will create more accessible and inclusive experiences for people with disabilities.\n",
       "    *   AI-powered voice assistants, screen readers, and other assistive technologies will improve communication and access to information.\n",
       "    *   Robotics and prosthetics will enhance mobility and independence.\n",
       "*   **Language Translation & Communication:** AI will break down language barriers, making it easier for people from different cultures to communicate and collaborate.\n",
       "\n",
       "**5. Entertainment & Creativity:**\n",
       "\n",
       "*   **AI-Generated Content:** AI will be used to create new forms of art, music, and literature, blurring the lines between human and machine creativity.\n",
       "*   **Interactive Entertainment:** AI will power more immersive and interactive gaming experiences, creating more realistic and engaging virtual worlds.\n",
       "*   **Personalized Entertainment Recommendations:** AI will continue to refine entertainment recommendations, ensuring that we always have something new and exciting to watch, listen to, or read.\n",
       "\n",
       "**6. Challenges & Considerations:**\n",
       "\n",
       "*   **Job Displacement:** While new jobs will be created, job displacement due to automation remains a concern and will require proactive measures such as retraining and social safety nets.\n",
       "*   **Bias & Fairness:** AI systems can perpetuate and amplify existing biases if not carefully designed and monitored. Ensuring fairness and equity in AI algorithms is crucial.\n",
       "*   **Privacy & Security:** The increasing use of AI raises concerns about data privacy and security. Robust regulations and safeguards are needed to protect personal information.\n",
       "*   **Ethical Considerations:** As AI becomes more powerful, ethical dilemmas will arise regarding its use in areas such as autonomous weapons, facial recognition, and predictive policing.\n",
       "*   **Misinformation & Manipulation:** AI-powered deepfakes and disinformation campaigns could be used to manipulate public opinion and undermine trust.\n",
       "\n",
       "**Overall:**\n",
       "\n",
       "Life with AI in 2030 will be characterized by increased personalization, automation, and efficiency. AI will be a powerful tool that transforms our lives in many positive ways, but it also presents significant challenges that need to be addressed proactively.  Success will depend on our ability to develop and deploy AI responsibly, ethically, and in a way that benefits all of humanity. It will also require a shift in how we think about work, education, and our role in society. Continuous learning and adaptation will be paramount.\n"
      ],
      "text/plain": [
       "<IPython.core.display.Markdown object>"
      ]
     },
     "metadata": {},
     "output_type": "display_data"
    }
   ],
   "source": [
    "gemini = OpenAI(api_key=google_api_key, base_url=\"https://generativelanguage.googleapis.com/v1beta/openai/\")\n",
    "model_name = \"gemini-2.0-flash\"\n",
    "\n",
    "response = gemini.chat.completions.create(model=model_name, messages=messages)\n",
    "answer = response.choices[0].message.content\n",
    "\n",
    "display(Markdown(answer))\n",
    "competitors.append(model_name)\n",
    "answers.append(answer)"
   ]
  },
  {
   "cell_type": "code",
   "execution_count": null,
   "metadata": {},
   "outputs": [],
   "source": [
    "deepseek = OpenAI(api_key=deepseek_api_key, base_url=\"https://api.deepseek.com/v1\")\n",
    "model_name = \"deepseek-chat\"\n",
    "\n",
    "response = deepseek.chat.completions.create(model=model_name, messages=messages)\n",
    "answer = response.choices[0].message.content\n",
    "\n",
    "display(Markdown(answer))\n",
    "competitors.append(model_name)\n",
    "answers.append(answer)"
   ]
  },
  {
   "cell_type": "code",
   "execution_count": 20,
   "metadata": {},
   "outputs": [
    {
     "data": {
      "text/markdown": [
       "Predicting the future is inherently uncertain, but based on current trends and developments, here's a hypothetical glimpse into what life with AI might be like in 2030:\n",
       "\n",
       "**Increased Automation and Efficiency:**\n",
       "\n",
       "1. **Smart Homes and Cities**: AI-powered buildings and urban infrastructure will optimize energy consumption, traffic flow, waste management, and public services, making life more convenient and sustainable.\n",
       "2. **Personal Assistants**: AI-powered virtual assistants, like Amazon's Alexa or Google Home, will become ubiquitous, managing daily tasks, scheduling, and entertainment with ease.\n",
       "3. **Autonomous Transportation**: Self-driving cars and drones will transform the way we travel, reducing accidents, traffic congestion, and emissions.\n",
       "\n",
       "**Enhanced Healthcare and Medicine:**\n",
       "\n",
       "1. **AI-assisted Diagnosis**: AI algorithms will help doctors diagnose diseases more accurately and quickly, leading to better patient outcomes and personalized treatment plans.\n",
       "2. **Customized Medicine**: AI will enable the development of tailored therapies, precision medicine, and targeted treatments, revolutionizing healthcare.\n",
       "3. **Remote Monitoring**: AI-powered wearables and IoT devices will track patients' vital signs, detecting potential health issues before they become serious.\n",
       "\n",
       "**Augmented Education and Learning:**\n",
       "\n",
       "1. **Adaptive Learning Systems**: AI-driven platforms will provide personalized education, adjusting to individual learning styles, pace, and abilities.\n",
       "2. **Intelligent Tutoring**: AI-powered virtual tutors will offer one-on-one guidance, helping students overcome specific challenges and knowledge gaps.\n",
       "3. **Accessibility and Inclusion**: AI will enable more accessible education for people with disabilities, language barriers, or limited resources.\n",
       "\n",
       "**Transformed Workforce and Economy:**\n",
       "\n",
       "1. **Job Augmentation**: AI will enhance productivity, freeing humans from mundane tasks and enabling them to focus on high-value, creative work.\n",
       "2. **New Job Creation**: AI will spawn new industries, job categories, and entrepreneurial opportunities, such as AI training, deployment, and maintenance.\n",
       "3. **Redefining Work**: AI will prompt a shift towards lifelong learning, continuous skill development, and a culture of adaptability.\n",
       "\n",
       "**Emerging Challenges and Concerns:**\n",
       "\n",
       "1. **Job Displacement**: AI might displace certain jobs, particularly those involving repetitive or routine tasks, leading to social and economic disruption.\n",
       "2. **Bias and Fairness**: AI systems may perpetuate existing biases, compromising fairness and equity in decision-making.\n",
       "3. **Security and Trust**: As AI becomes more pervasive, concerns about data security, transparency, and accountability will grow.\n",
       "\n",
       "To mitigate these challenges, it's essential to:\n",
       "\n",
       "1. **Foster Continuous Learning**: Invest in education and retraining programs to help workers adapt to an AI-driven economy.\n",
       "2. **Implement Responsible AI**: Develop and deploy AI systems that prioritize transparency, accountability, and fairness.\n",
       "3. **Encourage Collaboration**: Foster partnerships between humans, AI developers, and policymakers to address the societal implications of AI and ensure a beneficial, inclusive future.\n",
       "\n",
       "In 2030, life with AI will be a double-edged sword – bringing both unprecedented opportunities and challenges. By acknowledging these developments and proactively addressing the concerns, we can navigate the transformative power of AI and shape a future that benefits humanity as a whole."
      ],
      "text/plain": [
       "<IPython.core.display.Markdown object>"
      ]
     },
     "metadata": {},
     "output_type": "display_data"
    }
   ],
   "source": [
    "groq = OpenAI(api_key=groq_api_key, base_url=\"https://api.groq.com/openai/v1\")\n",
    "model_name = \"llama-3.3-70b-versatile\"\n",
    "\n",
    "response = groq.chat.completions.create(model=model_name, messages=messages)\n",
    "answer = response.choices[0].message.content\n",
    "\n",
    "display(Markdown(answer))\n",
    "competitors.append(model_name)\n",
    "answers.append(answer)\n"
   ]
  },
  {
   "cell_type": "markdown",
   "metadata": {},
   "source": [
    "## For the next cell, we will use Ollama\n",
    "\n",
    "Ollama runs a local web service that gives an OpenAI compatible endpoint,  \n",
    "and runs models locally using high performance C++ code.\n",
    "\n",
    "If you don't have Ollama, install it here by visiting https://ollama.com then pressing Download and following the instructions.\n",
    "\n",
    "After it's installed, you should be able to visit here: http://localhost:11434 and see the message \"Ollama is running\"\n",
    "\n",
    "You might need to restart Cursor (and maybe reboot). Then open a Terminal (control+\\`) and run `ollama serve`\n",
    "\n",
    "Useful Ollama commands (run these in the terminal, or with an exclamation mark in this notebook):\n",
    "\n",
    "`ollama pull <model_name>` downloads a model locally  \n",
    "`ollama ls` lists all the models you've downloaded  \n",
    "`ollama rm <model_name>` deletes the specified model from your downloads"
   ]
  },
  {
   "cell_type": "markdown",
   "metadata": {},
   "source": [
    "<table style=\"margin: 0; text-align: left; width:100%\">\n",
    "    <tr>\n",
    "        <td style=\"width: 150px; height: 150px; vertical-align: middle;\">\n",
    "            <img src=\"../assets/stop.png\" width=\"150\" height=\"150\" style=\"display: block;\" />\n",
    "        </td>\n",
    "        <td>\n",
    "            <h2 style=\"color:#ff7800;\">Super important - ignore me at your peril!</h2>\n",
    "            <span style=\"color:#ff7800;\">The model called <b>llama3.3</b> is FAR too large for home computers - it's not intended for personal computing and will consume all your resources! Stick with the nicely sized <b>llama3.2</b> or <b>llama3.2:1b</b> and if you want larger, try llama3.1 or smaller variants of Qwen, Gemma, Phi or DeepSeek. See the <A href=\"https://ollama.com/models\">the Ollama models page</a> for a full list of models and sizes.\n",
    "            </span>\n",
    "        </td>\n",
    "    </tr>\n",
    "</table>"
   ]
  },
  {
   "cell_type": "code",
   "execution_count": 6,
   "metadata": {},
   "outputs": [
    {
     "name": "stderr",
     "output_type": "stream",
     "text": [
      "\u001b[?2026h\u001b[?25l\u001b[1Gpulling manifest ⠋ \u001b[K\u001b[?25h\u001b[?2026l\u001b[?2026h\u001b[?25l\u001b[1Gpulling manifest ⠙ \u001b[K\u001b[?25h\u001b[?2026l\u001b[?2026h\u001b[?25l\u001b[1Gpulling manifest ⠹ \u001b[K\u001b[?25h\u001b[?2026l\u001b[?2026h\u001b[?25l\u001b[1Gpulling manifest \u001b[K\n",
      "pulling dde5aa3fc5ff: 100% ▕██████████████████▏ 2.0 GB                         \u001b[K\n",
      "pulling 966de95ca8a6: 100% ▕██████████████████▏ 1.4 KB                         \u001b[K\n",
      "pulling fcc5a6bec9da: 100% ▕██████████████████▏ 7.7 KB                         \u001b[K\n",
      "pulling a70ff7e570d9: 100% ▕██████████████████▏ 6.0 KB                         \u001b[K\n",
      "pulling 56bb8bd477a5: 100% ▕██████████████████▏   96 B                         \u001b[K\n",
      "pulling 34bb5ab01051: 100% ▕██████████████████▏  561 B                         \u001b[K\n",
      "verifying sha256 digest \u001b[K\n",
      "writing manifest \u001b[K\n",
      "success \u001b[K\u001b[?25h\u001b[?2026l\n"
     ]
    }
   ],
   "source": [
    "!ollama pull llama3.2"
   ]
  },
  {
   "cell_type": "code",
   "execution_count": 24,
   "metadata": {},
   "outputs": [
    {
     "data": {
      "text/markdown": [
       "Predicting exactly what life will be like in 2030 is challenging, but based on current trends and advancements in artificial intelligence (AI), here's a possible scenario:\n",
       "\n",
       "**Augmented Lives:**\n",
       "\n",
       "1. **Personal Assistants:** AI-powered personal assistants like Alexa, Google Assistant, or Cortana will become even more indispensable. They'll learn your habits and preferences, anticipating your needs and providing personalized recommendations.\n",
       "2. **Smart Homes:** AI-driven smart homes will continue to evolve, with seamless integration of devices, appliances, and services (e.g., Amazon Echo). Voice-controlled home automation will make daily tasks easier, while security cameras and biometric scanners will enhance safety and convenience.\n",
       "3. **Health and Wellness:** AI-assisted health monitoring systems will become widespread, using wearables, biosensors, or mobile apps to track vital signs and detect early warning signs of illnesses.\n",
       "\n",
       "**New Job Opportunities:**\n",
       "\n",
       "1. **AI Experts:** With the rise of AI, experts in fields like machine learning, data science, and natural language processing will be in high demand.\n",
       "2. **Digital Creatives:** As AI-generated content becomes more prevalent, digital creatives (e.g., writers, artists) will focus on higher-level tasks like conceptualization and curation.\n",
       "3. **AI Ethics Specialists:** With the growth of AI comes concerns about bias, fairness, and accountability. Specialists in AI ethics will be needed to ensure that AI systems are developed with societal values in mind.\n",
       "\n",
       "**Societal Shifts:**\n",
       "\n",
       "1. **Remote Work:** AI-facilitated remote work will become the norm, enabling people to work from anywhere and at any time.\n",
       "2. **Shifts in Education:** AI-powered adaptive learning systems will personalize education, allowing teachers to focus on high-touch skills and social-emotional learning.\n",
       "3. **Increased Automation:** With increased automation comes the need for workers to reskill and upskill to remain relevant.\n",
       "\n",
       "**Cybersecurity and Safety:**\n",
       "\n",
       "1. **Cybersecurity Experts:** As digital attacks become more sophisticated, cybersecurity experts will be in high demand to protect individuals, businesses, and governments from cyber threats.\n",
       "2. **Biometric Security:** AI-fueled biometric surveillance will enhance public safety by detecting suspicious behavior.\n",
       "3. **Data Protection:** Individuals and organizations will need to ensure their data is protected from unauthorized access, misuse, or exploitation.\n",
       "\n",
       "**Potential Challenges:**\n",
       "\n",
       "1. **Job Displacement:** Automation and AI transformation may lead to job displacement for certain professions, requiring workers to adapt quickly.\n",
       "2. **Bias and Fairness:** As AI decision-making becomes more prevalent, biases in algorithms can perpetuate systemic inequalities, highlighting the need for fairness and accountability measures.\n",
       "3. **Dependence on Technology:** Overreliance on AI could erode human skills, creativity, and critical thinking.\n",
       "\n",
       "This is just a glimpse into what life with AI might be like in 2030. The future will likely involve numerous trade-offs between the benefits and challenges of AI integration."
      ],
      "text/plain": [
       "<IPython.core.display.Markdown object>"
      ]
     },
     "metadata": {},
     "output_type": "display_data"
    }
   ],
   "source": [
    "ollama = OpenAI(base_url='http://localhost:11434/v1', api_key='ollama')\n",
    "model_name = \"llama3.2\"\n",
    "\n",
    "response = ollama.chat.completions.create(model=model_name, messages=messages)\n",
    "answer = response.choices[0].message.content\n",
    "\n",
    "display(Markdown(answer))\n",
    "competitors.append(model_name)\n",
    "answers.append(answer)"
   ]
  },
  {
   "cell_type": "code",
   "execution_count": 25,
   "metadata": {},
   "outputs": [
    {
     "name": "stdout",
     "output_type": "stream",
     "text": [
      "['gpt-4o-mini', 'claude-3-7-sonnet-latest', 'gemini-2.0-flash', 'claude-3-7-sonnet-latest', 'llama-3.3-70b-versatile', 'llama3.2']\n",
      "6\n"
     ]
    }
   ],
   "source": [
    "# So where are we?\n",
    "\n",
    "print(competitors)\n",
    "print(len(answers))\n"
   ]
  },
  {
   "cell_type": "code",
   "execution_count": 26,
   "metadata": {},
   "outputs": [
    {
     "data": {
      "text/markdown": [
       "Competitor: gpt-4o-mini\n",
       "\n",
       "Predicting life with AI in 2030 involves a range of possibilities across various aspects of society. Here are some projections based on trends and advancements as of my last knowledge update:\n",
       "\n",
       "1. **Work and Employment**: AI is expected to significantly change the nature of work. Many routine and repetitive tasks may be automated, allowing humans to focus on more complex, creative, and interpersonal activities. While some jobs may become obsolete, new roles may emerge, necessitating a shift in workforce skills and education. Lifelong learning will likely become a norm as people adapt to new technologies.\n",
       "\n",
       "2. **Healthcare**: AI could greatly enhance healthcare by providing advanced diagnostics, personalized treatment plans, and continuous monitoring through wearable devices. AI could assist in drug discovery, predicting outbreaks, and managing patient care, leading to more efficient and effective healthcare systems.\n",
       "\n",
       "3. **Transportation**: Autonomous vehicles may be more prevalent, transforming personal and public transportation. This could lead to reduced traffic accidents, more efficient traffic flows, and changes in urban planning. The integration of AI in logistics and delivery systems could streamline supply chains.\n",
       "\n",
       "4. **Smart Cities**: Urban areas may become increasingly \"smart,\" using AI to optimize resources, manage energy consumption, and improve public services such as waste management and emergency response. This could enhance the quality of life through better infrastructure and services.\n",
       "\n",
       "5. **Personal Life**: AI could become a more integrated part of daily life, with virtual assistants managing schedules, home automation systems improving energy efficiency, and AI-driven tools aiding in decision-making. AI might also play a role in mental health support through chatbots and interventions.\n",
       "\n",
       "6. **Privacy and Ethics**: The increased use of AI will likely raise significant ethical and privacy concerns. Issues around data security, surveillance, bias in algorithms, and the accountability of AI systems will be paramount. Societies may need to establish new regulations and frameworks to address these challenges.\n",
       "\n",
       "7. **Education**: AI could personalize learning experiences, offering tailored educational resources and support to students based on their individual needs and learning styles. This may lead to more effective educational outcomes and greater accessibility.\n",
       "\n",
       "8. **Social Interaction**: Human interactions may be influenced by AI-mediated communication tools, which could enhance connectivity but also raise concerns about authenticity and the quality of interpersonal relationships.\n",
       "\n",
       "9. **Creative Industries**: AI might also impact creativity, as AI-generated art, music, and literature become more common. This could lead to new forms of collaboration between humans and machines in creative processes.\n",
       "\n",
       "Overall, while AI has the potential to enhance many aspects of life by 2030, it will also pose significant societal challenges that will need to be addressed thoughtfully and proactively. The focus will likely be on finding a balance between leveraging AI's benefits while mitigating risks and ensuring ethical use."
      ],
      "text/plain": [
       "<IPython.core.display.Markdown object>"
      ]
     },
     "metadata": {},
     "output_type": "display_data"
    },
    {
     "data": {
      "text/markdown": [
       "Competitor: claude-3-7-sonnet-latest\n",
       "\n",
       "# Life with AI in 2030: A Perspective\n",
       "\n",
       "By 2030, AI will likely be more deeply integrated into daily life, though predictions come with uncertainty. Some possibilities include:\n",
       "\n",
       "- **Workplace transformation**: More automation of routine tasks with humans focusing on creative, strategic, and interpersonal work\n",
       "- **Personalized education and healthcare**: AI tutors adapting to individual learning styles and AI-assisted diagnostics becoming standard\n",
       "- **Smart homes and cities**: More seamless integration of AI assistants managing energy usage, traffic flow, and daily conveniences\n",
       "- **Ethical and regulatory frameworks**: More developed guidelines around AI usage, privacy, and accountability\n",
       "\n",
       "The most successful societies will likely be those that balance AI's benefits with human values and ensure the technology augments rather than replaces human capabilities. How do you think AI might affect areas you're particularly interested in?"
      ],
      "text/plain": [
       "<IPython.core.display.Markdown object>"
      ]
     },
     "metadata": {},
     "output_type": "display_data"
    },
    {
     "data": {
      "text/markdown": [
       "Competitor: gemini-2.0-flash\n",
       "\n",
       "Life with AI in 2030 is poised to be significantly different from today, touching nearly every aspect of our lives. Here's a breakdown of what we might expect:\n",
       "\n",
       "**1. Enhanced Personalization & Automation:**\n",
       "\n",
       "*   **Personalized Experiences:** AI will curate more personalized experiences in entertainment, education, healthcare, and retail. Think:\n",
       "    *   AI-powered tutors adapting to your learning style.\n",
       "    *   Movie recommendations that truly match your taste, going beyond just genre.\n",
       "    *   Personalized health plans based on your DNA and lifestyle.\n",
       "*   **Smart Homes & Cities:** Our homes and cities will be smarter, more efficient, and more responsive to our needs.\n",
       "    *   AI optimizing energy consumption, adjusting lighting, and controlling security systems.\n",
       "    *   Smart traffic management reducing congestion and pollution.\n",
       "    *   Predictive maintenance for infrastructure, preventing breakdowns.\n",
       "*   **Automation of Mundane Tasks:** AI will automate more routine tasks in both our personal and professional lives.\n",
       "    *   Automated scheduling, email management, and travel planning.\n",
       "    *   Increased use of robots for cleaning, gardening, and deliveries.\n",
       "\n",
       "**2. The Workplace Transformed:**\n",
       "\n",
       "*   **Collaboration with AI:** AI will become a ubiquitous tool for collaboration, assisting with tasks, providing insights, and automating repetitive processes.\n",
       "*   **New Job Roles:** While some jobs may be automated, new roles will emerge in areas like AI development, maintenance, ethics, and data science.\n",
       "*   **Upskilling & Reskilling:** Continuous learning and adaptation will be crucial as AI reshapes the job market. There will be more emphasis on skills that AI can't easily replicate, such as creativity, critical thinking, emotional intelligence, and complex problem-solving.\n",
       "*   **Augmented Productivity:** AI-powered tools will augment human capabilities, increasing productivity and allowing workers to focus on higher-value tasks.\n",
       "\n",
       "**3. Healthcare Revolutionized:**\n",
       "\n",
       "*   **Early Disease Detection:** AI will analyze medical images and data to detect diseases earlier and more accurately, leading to better treatment outcomes.\n",
       "*   **Personalized Medicine:** AI will tailor treatments to individual patients based on their genetic makeup, lifestyle, and medical history.\n",
       "*   **Drug Discovery & Development:** AI will accelerate the drug discovery process, reducing the time and cost required to bring new therapies to market.\n",
       "*   **Remote Patient Monitoring:** AI-powered devices will enable continuous monitoring of patients' health, allowing for early intervention and preventing hospital readmissions.\n",
       "\n",
       "**4. Enhanced Accessibility & Inclusivity:**\n",
       "\n",
       "*   **AI-Powered Assistive Technologies:** AI will create more accessible and inclusive experiences for people with disabilities.\n",
       "    *   AI-powered voice assistants, screen readers, and other assistive technologies will improve communication and access to information.\n",
       "    *   Robotics and prosthetics will enhance mobility and independence.\n",
       "*   **Language Translation & Communication:** AI will break down language barriers, making it easier for people from different cultures to communicate and collaborate.\n",
       "\n",
       "**5. Entertainment & Creativity:**\n",
       "\n",
       "*   **AI-Generated Content:** AI will be used to create new forms of art, music, and literature, blurring the lines between human and machine creativity.\n",
       "*   **Interactive Entertainment:** AI will power more immersive and interactive gaming experiences, creating more realistic and engaging virtual worlds.\n",
       "*   **Personalized Entertainment Recommendations:** AI will continue to refine entertainment recommendations, ensuring that we always have something new and exciting to watch, listen to, or read.\n",
       "\n",
       "**6. Challenges & Considerations:**\n",
       "\n",
       "*   **Job Displacement:** While new jobs will be created, job displacement due to automation remains a concern and will require proactive measures such as retraining and social safety nets.\n",
       "*   **Bias & Fairness:** AI systems can perpetuate and amplify existing biases if not carefully designed and monitored. Ensuring fairness and equity in AI algorithms is crucial.\n",
       "*   **Privacy & Security:** The increasing use of AI raises concerns about data privacy and security. Robust regulations and safeguards are needed to protect personal information.\n",
       "*   **Ethical Considerations:** As AI becomes more powerful, ethical dilemmas will arise regarding its use in areas such as autonomous weapons, facial recognition, and predictive policing.\n",
       "*   **Misinformation & Manipulation:** AI-powered deepfakes and disinformation campaigns could be used to manipulate public opinion and undermine trust.\n",
       "\n",
       "**Overall:**\n",
       "\n",
       "Life with AI in 2030 will be characterized by increased personalization, automation, and efficiency. AI will be a powerful tool that transforms our lives in many positive ways, but it also presents significant challenges that need to be addressed proactively.  Success will depend on our ability to develop and deploy AI responsibly, ethically, and in a way that benefits all of humanity. It will also require a shift in how we think about work, education, and our role in society. Continuous learning and adaptation will be paramount.\n"
      ],
      "text/plain": [
       "<IPython.core.display.Markdown object>"
      ]
     },
     "metadata": {},
     "output_type": "display_data"
    },
    {
     "data": {
      "text/markdown": [
       "Competitor: claude-3-7-sonnet-latest\n",
       "\n",
       "# Life with AI in 2030: A Possible Perspective\n",
       "\n",
       "By 2030, AI will likely be more deeply integrated into daily life, though not necessarily in the sci-fi ways often depicted. Some possibilities include:\n",
       "\n",
       "- More personalized and proactive digital assistance (managing schedules, health monitoring)\n",
       "- Widespread AI-assisted healthcare diagnostics and treatment planning\n",
       "- Educational systems that adapt to individual learning styles\n",
       "- More automated workplace tools handling routine tasks\n",
       "- Smarter homes optimizing energy use and anticipating needs\n",
       "\n",
       "These developments will bring both benefits (efficiency, personalization) and challenges (privacy concerns, digital divides, job transitions). The actual outcome will depend on regulatory choices, technological progress, and societal values that shape AI development over the coming years.\n",
       "\n",
       "What aspects of AI's future role are you most curious about?"
      ],
      "text/plain": [
       "<IPython.core.display.Markdown object>"
      ]
     },
     "metadata": {},
     "output_type": "display_data"
    },
    {
     "data": {
      "text/markdown": [
       "Competitor: llama-3.3-70b-versatile\n",
       "\n",
       "Predicting the future is inherently uncertain, but based on current trends and developments, here's a hypothetical glimpse into what life with AI might be like in 2030:\n",
       "\n",
       "**Increased Automation and Efficiency:**\n",
       "\n",
       "1. **Smart Homes and Cities**: AI-powered buildings and urban infrastructure will optimize energy consumption, traffic flow, waste management, and public services, making life more convenient and sustainable.\n",
       "2. **Personal Assistants**: AI-powered virtual assistants, like Amazon's Alexa or Google Home, will become ubiquitous, managing daily tasks, scheduling, and entertainment with ease.\n",
       "3. **Autonomous Transportation**: Self-driving cars and drones will transform the way we travel, reducing accidents, traffic congestion, and emissions.\n",
       "\n",
       "**Enhanced Healthcare and Medicine:**\n",
       "\n",
       "1. **AI-assisted Diagnosis**: AI algorithms will help doctors diagnose diseases more accurately and quickly, leading to better patient outcomes and personalized treatment plans.\n",
       "2. **Customized Medicine**: AI will enable the development of tailored therapies, precision medicine, and targeted treatments, revolutionizing healthcare.\n",
       "3. **Remote Monitoring**: AI-powered wearables and IoT devices will track patients' vital signs, detecting potential health issues before they become serious.\n",
       "\n",
       "**Augmented Education and Learning:**\n",
       "\n",
       "1. **Adaptive Learning Systems**: AI-driven platforms will provide personalized education, adjusting to individual learning styles, pace, and abilities.\n",
       "2. **Intelligent Tutoring**: AI-powered virtual tutors will offer one-on-one guidance, helping students overcome specific challenges and knowledge gaps.\n",
       "3. **Accessibility and Inclusion**: AI will enable more accessible education for people with disabilities, language barriers, or limited resources.\n",
       "\n",
       "**Transformed Workforce and Economy:**\n",
       "\n",
       "1. **Job Augmentation**: AI will enhance productivity, freeing humans from mundane tasks and enabling them to focus on high-value, creative work.\n",
       "2. **New Job Creation**: AI will spawn new industries, job categories, and entrepreneurial opportunities, such as AI training, deployment, and maintenance.\n",
       "3. **Redefining Work**: AI will prompt a shift towards lifelong learning, continuous skill development, and a culture of adaptability.\n",
       "\n",
       "**Emerging Challenges and Concerns:**\n",
       "\n",
       "1. **Job Displacement**: AI might displace certain jobs, particularly those involving repetitive or routine tasks, leading to social and economic disruption.\n",
       "2. **Bias and Fairness**: AI systems may perpetuate existing biases, compromising fairness and equity in decision-making.\n",
       "3. **Security and Trust**: As AI becomes more pervasive, concerns about data security, transparency, and accountability will grow.\n",
       "\n",
       "To mitigate these challenges, it's essential to:\n",
       "\n",
       "1. **Foster Continuous Learning**: Invest in education and retraining programs to help workers adapt to an AI-driven economy.\n",
       "2. **Implement Responsible AI**: Develop and deploy AI systems that prioritize transparency, accountability, and fairness.\n",
       "3. **Encourage Collaboration**: Foster partnerships between humans, AI developers, and policymakers to address the societal implications of AI and ensure a beneficial, inclusive future.\n",
       "\n",
       "In 2030, life with AI will be a double-edged sword – bringing both unprecedented opportunities and challenges. By acknowledging these developments and proactively addressing the concerns, we can navigate the transformative power of AI and shape a future that benefits humanity as a whole."
      ],
      "text/plain": [
       "<IPython.core.display.Markdown object>"
      ]
     },
     "metadata": {},
     "output_type": "display_data"
    },
    {
     "data": {
      "text/markdown": [
       "Competitor: llama3.2\n",
       "\n",
       "Predicting exactly what life will be like in 2030 is challenging, but based on current trends and advancements in artificial intelligence (AI), here's a possible scenario:\n",
       "\n",
       "**Augmented Lives:**\n",
       "\n",
       "1. **Personal Assistants:** AI-powered personal assistants like Alexa, Google Assistant, or Cortana will become even more indispensable. They'll learn your habits and preferences, anticipating your needs and providing personalized recommendations.\n",
       "2. **Smart Homes:** AI-driven smart homes will continue to evolve, with seamless integration of devices, appliances, and services (e.g., Amazon Echo). Voice-controlled home automation will make daily tasks easier, while security cameras and biometric scanners will enhance safety and convenience.\n",
       "3. **Health and Wellness:** AI-assisted health monitoring systems will become widespread, using wearables, biosensors, or mobile apps to track vital signs and detect early warning signs of illnesses.\n",
       "\n",
       "**New Job Opportunities:**\n",
       "\n",
       "1. **AI Experts:** With the rise of AI, experts in fields like machine learning, data science, and natural language processing will be in high demand.\n",
       "2. **Digital Creatives:** As AI-generated content becomes more prevalent, digital creatives (e.g., writers, artists) will focus on higher-level tasks like conceptualization and curation.\n",
       "3. **AI Ethics Specialists:** With the growth of AI comes concerns about bias, fairness, and accountability. Specialists in AI ethics will be needed to ensure that AI systems are developed with societal values in mind.\n",
       "\n",
       "**Societal Shifts:**\n",
       "\n",
       "1. **Remote Work:** AI-facilitated remote work will become the norm, enabling people to work from anywhere and at any time.\n",
       "2. **Shifts in Education:** AI-powered adaptive learning systems will personalize education, allowing teachers to focus on high-touch skills and social-emotional learning.\n",
       "3. **Increased Automation:** With increased automation comes the need for workers to reskill and upskill to remain relevant.\n",
       "\n",
       "**Cybersecurity and Safety:**\n",
       "\n",
       "1. **Cybersecurity Experts:** As digital attacks become more sophisticated, cybersecurity experts will be in high demand to protect individuals, businesses, and governments from cyber threats.\n",
       "2. **Biometric Security:** AI-fueled biometric surveillance will enhance public safety by detecting suspicious behavior.\n",
       "3. **Data Protection:** Individuals and organizations will need to ensure their data is protected from unauthorized access, misuse, or exploitation.\n",
       "\n",
       "**Potential Challenges:**\n",
       "\n",
       "1. **Job Displacement:** Automation and AI transformation may lead to job displacement for certain professions, requiring workers to adapt quickly.\n",
       "2. **Bias and Fairness:** As AI decision-making becomes more prevalent, biases in algorithms can perpetuate systemic inequalities, highlighting the need for fairness and accountability measures.\n",
       "3. **Dependence on Technology:** Overreliance on AI could erode human skills, creativity, and critical thinking.\n",
       "\n",
       "This is just a glimpse into what life with AI might be like in 2030. The future will likely involve numerous trade-offs between the benefits and challenges of AI integration."
      ],
      "text/plain": [
       "<IPython.core.display.Markdown object>"
      ]
     },
     "metadata": {},
     "output_type": "display_data"
    }
   ],
   "source": [
    "# It's nice to know how to use \"zip\"\n",
    "for competitor, answer in zip(competitors, answers):\n",
    "    pr(f\"Competitor: {competitor}\\n\\n{answer}\")\n"
   ]
  },
  {
   "cell_type": "code",
   "execution_count": 27,
   "metadata": {},
   "outputs": [],
   "source": [
    "# Let's bring this together - note the use of \"enumerate\"\n",
    "\n",
    "together = \"\"\n",
    "for index, answer in enumerate(answers):\n",
    "    together += f\"# Response from competitor {index+1}\\n\\n\"\n",
    "    together += answer + \"\\n\\n\""
   ]
  },
  {
   "cell_type": "code",
   "execution_count": 28,
   "metadata": {},
   "outputs": [
    {
     "name": "stdout",
     "output_type": "stream",
     "text": [
      "# Response from competitor 1\n",
      "\n",
      "Predicting life with AI in 2030 involves a range of possibilities across various aspects of society. Here are some projections based on trends and advancements as of my last knowledge update:\n",
      "\n",
      "1. **Work and Employment**: AI is expected to significantly change the nature of work. Many routine and repetitive tasks may be automated, allowing humans to focus on more complex, creative, and interpersonal activities. While some jobs may become obsolete, new roles may emerge, necessitating a shift in workforce skills and education. Lifelong learning will likely become a norm as people adapt to new technologies.\n",
      "\n",
      "2. **Healthcare**: AI could greatly enhance healthcare by providing advanced diagnostics, personalized treatment plans, and continuous monitoring through wearable devices. AI could assist in drug discovery, predicting outbreaks, and managing patient care, leading to more efficient and effective healthcare systems.\n",
      "\n",
      "3. **Transportation**: Autonomous vehicles may be more prevalent, transforming personal and public transportation. This could lead to reduced traffic accidents, more efficient traffic flows, and changes in urban planning. The integration of AI in logistics and delivery systems could streamline supply chains.\n",
      "\n",
      "4. **Smart Cities**: Urban areas may become increasingly \"smart,\" using AI to optimize resources, manage energy consumption, and improve public services such as waste management and emergency response. This could enhance the quality of life through better infrastructure and services.\n",
      "\n",
      "5. **Personal Life**: AI could become a more integrated part of daily life, with virtual assistants managing schedules, home automation systems improving energy efficiency, and AI-driven tools aiding in decision-making. AI might also play a role in mental health support through chatbots and interventions.\n",
      "\n",
      "6. **Privacy and Ethics**: The increased use of AI will likely raise significant ethical and privacy concerns. Issues around data security, surveillance, bias in algorithms, and the accountability of AI systems will be paramount. Societies may need to establish new regulations and frameworks to address these challenges.\n",
      "\n",
      "7. **Education**: AI could personalize learning experiences, offering tailored educational resources and support to students based on their individual needs and learning styles. This may lead to more effective educational outcomes and greater accessibility.\n",
      "\n",
      "8. **Social Interaction**: Human interactions may be influenced by AI-mediated communication tools, which could enhance connectivity but also raise concerns about authenticity and the quality of interpersonal relationships.\n",
      "\n",
      "9. **Creative Industries**: AI might also impact creativity, as AI-generated art, music, and literature become more common. This could lead to new forms of collaboration between humans and machines in creative processes.\n",
      "\n",
      "Overall, while AI has the potential to enhance many aspects of life by 2030, it will also pose significant societal challenges that will need to be addressed thoughtfully and proactively. The focus will likely be on finding a balance between leveraging AI's benefits while mitigating risks and ensuring ethical use.\n",
      "\n",
      "# Response from competitor 2\n",
      "\n",
      "# Life with AI in 2030: A Perspective\n",
      "\n",
      "By 2030, AI will likely be more deeply integrated into daily life, though predictions come with uncertainty. Some possibilities include:\n",
      "\n",
      "- **Workplace transformation**: More automation of routine tasks with humans focusing on creative, strategic, and interpersonal work\n",
      "- **Personalized education and healthcare**: AI tutors adapting to individual learning styles and AI-assisted diagnostics becoming standard\n",
      "- **Smart homes and cities**: More seamless integration of AI assistants managing energy usage, traffic flow, and daily conveniences\n",
      "- **Ethical and regulatory frameworks**: More developed guidelines around AI usage, privacy, and accountability\n",
      "\n",
      "The most successful societies will likely be those that balance AI's benefits with human values and ensure the technology augments rather than replaces human capabilities. How do you think AI might affect areas you're particularly interested in?\n",
      "\n",
      "# Response from competitor 3\n",
      "\n",
      "Life with AI in 2030 is poised to be significantly different from today, touching nearly every aspect of our lives. Here's a breakdown of what we might expect:\n",
      "\n",
      "**1. Enhanced Personalization & Automation:**\n",
      "\n",
      "*   **Personalized Experiences:** AI will curate more personalized experiences in entertainment, education, healthcare, and retail. Think:\n",
      "    *   AI-powered tutors adapting to your learning style.\n",
      "    *   Movie recommendations that truly match your taste, going beyond just genre.\n",
      "    *   Personalized health plans based on your DNA and lifestyle.\n",
      "*   **Smart Homes & Cities:** Our homes and cities will be smarter, more efficient, and more responsive to our needs.\n",
      "    *   AI optimizing energy consumption, adjusting lighting, and controlling security systems.\n",
      "    *   Smart traffic management reducing congestion and pollution.\n",
      "    *   Predictive maintenance for infrastructure, preventing breakdowns.\n",
      "*   **Automation of Mundane Tasks:** AI will automate more routine tasks in both our personal and professional lives.\n",
      "    *   Automated scheduling, email management, and travel planning.\n",
      "    *   Increased use of robots for cleaning, gardening, and deliveries.\n",
      "\n",
      "**2. The Workplace Transformed:**\n",
      "\n",
      "*   **Collaboration with AI:** AI will become a ubiquitous tool for collaboration, assisting with tasks, providing insights, and automating repetitive processes.\n",
      "*   **New Job Roles:** While some jobs may be automated, new roles will emerge in areas like AI development, maintenance, ethics, and data science.\n",
      "*   **Upskilling & Reskilling:** Continuous learning and adaptation will be crucial as AI reshapes the job market. There will be more emphasis on skills that AI can't easily replicate, such as creativity, critical thinking, emotional intelligence, and complex problem-solving.\n",
      "*   **Augmented Productivity:** AI-powered tools will augment human capabilities, increasing productivity and allowing workers to focus on higher-value tasks.\n",
      "\n",
      "**3. Healthcare Revolutionized:**\n",
      "\n",
      "*   **Early Disease Detection:** AI will analyze medical images and data to detect diseases earlier and more accurately, leading to better treatment outcomes.\n",
      "*   **Personalized Medicine:** AI will tailor treatments to individual patients based on their genetic makeup, lifestyle, and medical history.\n",
      "*   **Drug Discovery & Development:** AI will accelerate the drug discovery process, reducing the time and cost required to bring new therapies to market.\n",
      "*   **Remote Patient Monitoring:** AI-powered devices will enable continuous monitoring of patients' health, allowing for early intervention and preventing hospital readmissions.\n",
      "\n",
      "**4. Enhanced Accessibility & Inclusivity:**\n",
      "\n",
      "*   **AI-Powered Assistive Technologies:** AI will create more accessible and inclusive experiences for people with disabilities.\n",
      "    *   AI-powered voice assistants, screen readers, and other assistive technologies will improve communication and access to information.\n",
      "    *   Robotics and prosthetics will enhance mobility and independence.\n",
      "*   **Language Translation & Communication:** AI will break down language barriers, making it easier for people from different cultures to communicate and collaborate.\n",
      "\n",
      "**5. Entertainment & Creativity:**\n",
      "\n",
      "*   **AI-Generated Content:** AI will be used to create new forms of art, music, and literature, blurring the lines between human and machine creativity.\n",
      "*   **Interactive Entertainment:** AI will power more immersive and interactive gaming experiences, creating more realistic and engaging virtual worlds.\n",
      "*   **Personalized Entertainment Recommendations:** AI will continue to refine entertainment recommendations, ensuring that we always have something new and exciting to watch, listen to, or read.\n",
      "\n",
      "**6. Challenges & Considerations:**\n",
      "\n",
      "*   **Job Displacement:** While new jobs will be created, job displacement due to automation remains a concern and will require proactive measures such as retraining and social safety nets.\n",
      "*   **Bias & Fairness:** AI systems can perpetuate and amplify existing biases if not carefully designed and monitored. Ensuring fairness and equity in AI algorithms is crucial.\n",
      "*   **Privacy & Security:** The increasing use of AI raises concerns about data privacy and security. Robust regulations and safeguards are needed to protect personal information.\n",
      "*   **Ethical Considerations:** As AI becomes more powerful, ethical dilemmas will arise regarding its use in areas such as autonomous weapons, facial recognition, and predictive policing.\n",
      "*   **Misinformation & Manipulation:** AI-powered deepfakes and disinformation campaigns could be used to manipulate public opinion and undermine trust.\n",
      "\n",
      "**Overall:**\n",
      "\n",
      "Life with AI in 2030 will be characterized by increased personalization, automation, and efficiency. AI will be a powerful tool that transforms our lives in many positive ways, but it also presents significant challenges that need to be addressed proactively.  Success will depend on our ability to develop and deploy AI responsibly, ethically, and in a way that benefits all of humanity. It will also require a shift in how we think about work, education, and our role in society. Continuous learning and adaptation will be paramount.\n",
      "\n",
      "\n",
      "# Response from competitor 4\n",
      "\n",
      "# Life with AI in 2030: A Possible Perspective\n",
      "\n",
      "By 2030, AI will likely be more deeply integrated into daily life, though not necessarily in the sci-fi ways often depicted. Some possibilities include:\n",
      "\n",
      "- More personalized and proactive digital assistance (managing schedules, health monitoring)\n",
      "- Widespread AI-assisted healthcare diagnostics and treatment planning\n",
      "- Educational systems that adapt to individual learning styles\n",
      "- More automated workplace tools handling routine tasks\n",
      "- Smarter homes optimizing energy use and anticipating needs\n",
      "\n",
      "These developments will bring both benefits (efficiency, personalization) and challenges (privacy concerns, digital divides, job transitions). The actual outcome will depend on regulatory choices, technological progress, and societal values that shape AI development over the coming years.\n",
      "\n",
      "What aspects of AI's future role are you most curious about?\n",
      "\n",
      "# Response from competitor 5\n",
      "\n",
      "Predicting the future is inherently uncertain, but based on current trends and developments, here's a hypothetical glimpse into what life with AI might be like in 2030:\n",
      "\n",
      "**Increased Automation and Efficiency:**\n",
      "\n",
      "1. **Smart Homes and Cities**: AI-powered buildings and urban infrastructure will optimize energy consumption, traffic flow, waste management, and public services, making life more convenient and sustainable.\n",
      "2. **Personal Assistants**: AI-powered virtual assistants, like Amazon's Alexa or Google Home, will become ubiquitous, managing daily tasks, scheduling, and entertainment with ease.\n",
      "3. **Autonomous Transportation**: Self-driving cars and drones will transform the way we travel, reducing accidents, traffic congestion, and emissions.\n",
      "\n",
      "**Enhanced Healthcare and Medicine:**\n",
      "\n",
      "1. **AI-assisted Diagnosis**: AI algorithms will help doctors diagnose diseases more accurately and quickly, leading to better patient outcomes and personalized treatment plans.\n",
      "2. **Customized Medicine**: AI will enable the development of tailored therapies, precision medicine, and targeted treatments, revolutionizing healthcare.\n",
      "3. **Remote Monitoring**: AI-powered wearables and IoT devices will track patients' vital signs, detecting potential health issues before they become serious.\n",
      "\n",
      "**Augmented Education and Learning:**\n",
      "\n",
      "1. **Adaptive Learning Systems**: AI-driven platforms will provide personalized education, adjusting to individual learning styles, pace, and abilities.\n",
      "2. **Intelligent Tutoring**: AI-powered virtual tutors will offer one-on-one guidance, helping students overcome specific challenges and knowledge gaps.\n",
      "3. **Accessibility and Inclusion**: AI will enable more accessible education for people with disabilities, language barriers, or limited resources.\n",
      "\n",
      "**Transformed Workforce and Economy:**\n",
      "\n",
      "1. **Job Augmentation**: AI will enhance productivity, freeing humans from mundane tasks and enabling them to focus on high-value, creative work.\n",
      "2. **New Job Creation**: AI will spawn new industries, job categories, and entrepreneurial opportunities, such as AI training, deployment, and maintenance.\n",
      "3. **Redefining Work**: AI will prompt a shift towards lifelong learning, continuous skill development, and a culture of adaptability.\n",
      "\n",
      "**Emerging Challenges and Concerns:**\n",
      "\n",
      "1. **Job Displacement**: AI might displace certain jobs, particularly those involving repetitive or routine tasks, leading to social and economic disruption.\n",
      "2. **Bias and Fairness**: AI systems may perpetuate existing biases, compromising fairness and equity in decision-making.\n",
      "3. **Security and Trust**: As AI becomes more pervasive, concerns about data security, transparency, and accountability will grow.\n",
      "\n",
      "To mitigate these challenges, it's essential to:\n",
      "\n",
      "1. **Foster Continuous Learning**: Invest in education and retraining programs to help workers adapt to an AI-driven economy.\n",
      "2. **Implement Responsible AI**: Develop and deploy AI systems that prioritize transparency, accountability, and fairness.\n",
      "3. **Encourage Collaboration**: Foster partnerships between humans, AI developers, and policymakers to address the societal implications of AI and ensure a beneficial, inclusive future.\n",
      "\n",
      "In 2030, life with AI will be a double-edged sword – bringing both unprecedented opportunities and challenges. By acknowledging these developments and proactively addressing the concerns, we can navigate the transformative power of AI and shape a future that benefits humanity as a whole.\n",
      "\n",
      "# Response from competitor 6\n",
      "\n",
      "Predicting exactly what life will be like in 2030 is challenging, but based on current trends and advancements in artificial intelligence (AI), here's a possible scenario:\n",
      "\n",
      "**Augmented Lives:**\n",
      "\n",
      "1. **Personal Assistants:** AI-powered personal assistants like Alexa, Google Assistant, or Cortana will become even more indispensable. They'll learn your habits and preferences, anticipating your needs and providing personalized recommendations.\n",
      "2. **Smart Homes:** AI-driven smart homes will continue to evolve, with seamless integration of devices, appliances, and services (e.g., Amazon Echo). Voice-controlled home automation will make daily tasks easier, while security cameras and biometric scanners will enhance safety and convenience.\n",
      "3. **Health and Wellness:** AI-assisted health monitoring systems will become widespread, using wearables, biosensors, or mobile apps to track vital signs and detect early warning signs of illnesses.\n",
      "\n",
      "**New Job Opportunities:**\n",
      "\n",
      "1. **AI Experts:** With the rise of AI, experts in fields like machine learning, data science, and natural language processing will be in high demand.\n",
      "2. **Digital Creatives:** As AI-generated content becomes more prevalent, digital creatives (e.g., writers, artists) will focus on higher-level tasks like conceptualization and curation.\n",
      "3. **AI Ethics Specialists:** With the growth of AI comes concerns about bias, fairness, and accountability. Specialists in AI ethics will be needed to ensure that AI systems are developed with societal values in mind.\n",
      "\n",
      "**Societal Shifts:**\n",
      "\n",
      "1. **Remote Work:** AI-facilitated remote work will become the norm, enabling people to work from anywhere and at any time.\n",
      "2. **Shifts in Education:** AI-powered adaptive learning systems will personalize education, allowing teachers to focus on high-touch skills and social-emotional learning.\n",
      "3. **Increased Automation:** With increased automation comes the need for workers to reskill and upskill to remain relevant.\n",
      "\n",
      "**Cybersecurity and Safety:**\n",
      "\n",
      "1. **Cybersecurity Experts:** As digital attacks become more sophisticated, cybersecurity experts will be in high demand to protect individuals, businesses, and governments from cyber threats.\n",
      "2. **Biometric Security:** AI-fueled biometric surveillance will enhance public safety by detecting suspicious behavior.\n",
      "3. **Data Protection:** Individuals and organizations will need to ensure their data is protected from unauthorized access, misuse, or exploitation.\n",
      "\n",
      "**Potential Challenges:**\n",
      "\n",
      "1. **Job Displacement:** Automation and AI transformation may lead to job displacement for certain professions, requiring workers to adapt quickly.\n",
      "2. **Bias and Fairness:** As AI decision-making becomes more prevalent, biases in algorithms can perpetuate systemic inequalities, highlighting the need for fairness and accountability measures.\n",
      "3. **Dependence on Technology:** Overreliance on AI could erode human skills, creativity, and critical thinking.\n",
      "\n",
      "This is just a glimpse into what life with AI might be like in 2030. The future will likely involve numerous trade-offs between the benefits and challenges of AI integration.\n",
      "\n",
      "\n"
     ]
    }
   ],
   "source": [
    "print(together)"
   ]
  },
  {
   "cell_type": "code",
   "execution_count": 29,
   "metadata": {},
   "outputs": [],
   "source": [
    "judge = f\"\"\"You are judging a competition between {len(competitors)} competitors.\n",
    "Each model has been given this question:\n",
    "\n",
    "{question}\n",
    "\n",
    "Your job is to evaluate each response for clarity and strength of argument, and rank them in order of best to worst.\n",
    "Respond with JSON, and only JSON, with the following format:\n",
    "{{\"results\": [\"best competitor number\", \"second best competitor number\", \"third best competitor number\", ...]}}\n",
    "\n",
    "Here are the responses from each competitor:\n",
    "\n",
    "{together}\n",
    "\n",
    "Now respond with the JSON with the ranked order of the competitors, nothing else. Do not include markdown formatting or code blocks.\"\"\"\n"
   ]
  },
  {
   "cell_type": "code",
   "execution_count": 31,
   "metadata": {},
   "outputs": [
    {
     "name": "stdout",
     "output_type": "stream",
     "text": [
      "You are judging a competition between 6 competitors.\n",
      "Each model has been given this question:\n",
      "\n",
      "What will life with AI be like in 2030?\n",
      "\n",
      "Your job is to evaluate each response for clarity and strength of argument, and rank them in order of best to worst.\n",
      "Respond with JSON, and only JSON, with the following format:\n",
      "{\"results\": [\"best competitor number\", \"second best competitor number\", \"third best competitor number\", ...]}\n",
      "\n",
      "Here are the responses from each competitor:\n",
      "\n",
      "# Response from competitor 1\n",
      "\n",
      "Predicting life with AI in 2030 involves a range of possibilities across various aspects of society. Here are some projections based on trends and advancements as of my last knowledge update:\n",
      "\n",
      "1. **Work and Employment**: AI is expected to significantly change the nature of work. Many routine and repetitive tasks may be automated, allowing humans to focus on more complex, creative, and interpersonal activities. While some jobs may become obsolete, new roles may emerge, necessitating a shift in workforce skills and education. Lifelong learning will likely become a norm as people adapt to new technologies.\n",
      "\n",
      "2. **Healthcare**: AI could greatly enhance healthcare by providing advanced diagnostics, personalized treatment plans, and continuous monitoring through wearable devices. AI could assist in drug discovery, predicting outbreaks, and managing patient care, leading to more efficient and effective healthcare systems.\n",
      "\n",
      "3. **Transportation**: Autonomous vehicles may be more prevalent, transforming personal and public transportation. This could lead to reduced traffic accidents, more efficient traffic flows, and changes in urban planning. The integration of AI in logistics and delivery systems could streamline supply chains.\n",
      "\n",
      "4. **Smart Cities**: Urban areas may become increasingly \"smart,\" using AI to optimize resources, manage energy consumption, and improve public services such as waste management and emergency response. This could enhance the quality of life through better infrastructure and services.\n",
      "\n",
      "5. **Personal Life**: AI could become a more integrated part of daily life, with virtual assistants managing schedules, home automation systems improving energy efficiency, and AI-driven tools aiding in decision-making. AI might also play a role in mental health support through chatbots and interventions.\n",
      "\n",
      "6. **Privacy and Ethics**: The increased use of AI will likely raise significant ethical and privacy concerns. Issues around data security, surveillance, bias in algorithms, and the accountability of AI systems will be paramount. Societies may need to establish new regulations and frameworks to address these challenges.\n",
      "\n",
      "7. **Education**: AI could personalize learning experiences, offering tailored educational resources and support to students based on their individual needs and learning styles. This may lead to more effective educational outcomes and greater accessibility.\n",
      "\n",
      "8. **Social Interaction**: Human interactions may be influenced by AI-mediated communication tools, which could enhance connectivity but also raise concerns about authenticity and the quality of interpersonal relationships.\n",
      "\n",
      "9. **Creative Industries**: AI might also impact creativity, as AI-generated art, music, and literature become more common. This could lead to new forms of collaboration between humans and machines in creative processes.\n",
      "\n",
      "Overall, while AI has the potential to enhance many aspects of life by 2030, it will also pose significant societal challenges that will need to be addressed thoughtfully and proactively. The focus will likely be on finding a balance between leveraging AI's benefits while mitigating risks and ensuring ethical use.\n",
      "\n",
      "# Response from competitor 2\n",
      "\n",
      "# Life with AI in 2030: A Perspective\n",
      "\n",
      "By 2030, AI will likely be more deeply integrated into daily life, though predictions come with uncertainty. Some possibilities include:\n",
      "\n",
      "- **Workplace transformation**: More automation of routine tasks with humans focusing on creative, strategic, and interpersonal work\n",
      "- **Personalized education and healthcare**: AI tutors adapting to individual learning styles and AI-assisted diagnostics becoming standard\n",
      "- **Smart homes and cities**: More seamless integration of AI assistants managing energy usage, traffic flow, and daily conveniences\n",
      "- **Ethical and regulatory frameworks**: More developed guidelines around AI usage, privacy, and accountability\n",
      "\n",
      "The most successful societies will likely be those that balance AI's benefits with human values and ensure the technology augments rather than replaces human capabilities. How do you think AI might affect areas you're particularly interested in?\n",
      "\n",
      "# Response from competitor 3\n",
      "\n",
      "Life with AI in 2030 is poised to be significantly different from today, touching nearly every aspect of our lives. Here's a breakdown of what we might expect:\n",
      "\n",
      "**1. Enhanced Personalization & Automation:**\n",
      "\n",
      "*   **Personalized Experiences:** AI will curate more personalized experiences in entertainment, education, healthcare, and retail. Think:\n",
      "    *   AI-powered tutors adapting to your learning style.\n",
      "    *   Movie recommendations that truly match your taste, going beyond just genre.\n",
      "    *   Personalized health plans based on your DNA and lifestyle.\n",
      "*   **Smart Homes & Cities:** Our homes and cities will be smarter, more efficient, and more responsive to our needs.\n",
      "    *   AI optimizing energy consumption, adjusting lighting, and controlling security systems.\n",
      "    *   Smart traffic management reducing congestion and pollution.\n",
      "    *   Predictive maintenance for infrastructure, preventing breakdowns.\n",
      "*   **Automation of Mundane Tasks:** AI will automate more routine tasks in both our personal and professional lives.\n",
      "    *   Automated scheduling, email management, and travel planning.\n",
      "    *   Increased use of robots for cleaning, gardening, and deliveries.\n",
      "\n",
      "**2. The Workplace Transformed:**\n",
      "\n",
      "*   **Collaboration with AI:** AI will become a ubiquitous tool for collaboration, assisting with tasks, providing insights, and automating repetitive processes.\n",
      "*   **New Job Roles:** While some jobs may be automated, new roles will emerge in areas like AI development, maintenance, ethics, and data science.\n",
      "*   **Upskilling & Reskilling:** Continuous learning and adaptation will be crucial as AI reshapes the job market. There will be more emphasis on skills that AI can't easily replicate, such as creativity, critical thinking, emotional intelligence, and complex problem-solving.\n",
      "*   **Augmented Productivity:** AI-powered tools will augment human capabilities, increasing productivity and allowing workers to focus on higher-value tasks.\n",
      "\n",
      "**3. Healthcare Revolutionized:**\n",
      "\n",
      "*   **Early Disease Detection:** AI will analyze medical images and data to detect diseases earlier and more accurately, leading to better treatment outcomes.\n",
      "*   **Personalized Medicine:** AI will tailor treatments to individual patients based on their genetic makeup, lifestyle, and medical history.\n",
      "*   **Drug Discovery & Development:** AI will accelerate the drug discovery process, reducing the time and cost required to bring new therapies to market.\n",
      "*   **Remote Patient Monitoring:** AI-powered devices will enable continuous monitoring of patients' health, allowing for early intervention and preventing hospital readmissions.\n",
      "\n",
      "**4. Enhanced Accessibility & Inclusivity:**\n",
      "\n",
      "*   **AI-Powered Assistive Technologies:** AI will create more accessible and inclusive experiences for people with disabilities.\n",
      "    *   AI-powered voice assistants, screen readers, and other assistive technologies will improve communication and access to information.\n",
      "    *   Robotics and prosthetics will enhance mobility and independence.\n",
      "*   **Language Translation & Communication:** AI will break down language barriers, making it easier for people from different cultures to communicate and collaborate.\n",
      "\n",
      "**5. Entertainment & Creativity:**\n",
      "\n",
      "*   **AI-Generated Content:** AI will be used to create new forms of art, music, and literature, blurring the lines between human and machine creativity.\n",
      "*   **Interactive Entertainment:** AI will power more immersive and interactive gaming experiences, creating more realistic and engaging virtual worlds.\n",
      "*   **Personalized Entertainment Recommendations:** AI will continue to refine entertainment recommendations, ensuring that we always have something new and exciting to watch, listen to, or read.\n",
      "\n",
      "**6. Challenges & Considerations:**\n",
      "\n",
      "*   **Job Displacement:** While new jobs will be created, job displacement due to automation remains a concern and will require proactive measures such as retraining and social safety nets.\n",
      "*   **Bias & Fairness:** AI systems can perpetuate and amplify existing biases if not carefully designed and monitored. Ensuring fairness and equity in AI algorithms is crucial.\n",
      "*   **Privacy & Security:** The increasing use of AI raises concerns about data privacy and security. Robust regulations and safeguards are needed to protect personal information.\n",
      "*   **Ethical Considerations:** As AI becomes more powerful, ethical dilemmas will arise regarding its use in areas such as autonomous weapons, facial recognition, and predictive policing.\n",
      "*   **Misinformation & Manipulation:** AI-powered deepfakes and disinformation campaigns could be used to manipulate public opinion and undermine trust.\n",
      "\n",
      "**Overall:**\n",
      "\n",
      "Life with AI in 2030 will be characterized by increased personalization, automation, and efficiency. AI will be a powerful tool that transforms our lives in many positive ways, but it also presents significant challenges that need to be addressed proactively.  Success will depend on our ability to develop and deploy AI responsibly, ethically, and in a way that benefits all of humanity. It will also require a shift in how we think about work, education, and our role in society. Continuous learning and adaptation will be paramount.\n",
      "\n",
      "\n",
      "# Response from competitor 4\n",
      "\n",
      "# Life with AI in 2030: A Possible Perspective\n",
      "\n",
      "By 2030, AI will likely be more deeply integrated into daily life, though not necessarily in the sci-fi ways often depicted. Some possibilities include:\n",
      "\n",
      "- More personalized and proactive digital assistance (managing schedules, health monitoring)\n",
      "- Widespread AI-assisted healthcare diagnostics and treatment planning\n",
      "- Educational systems that adapt to individual learning styles\n",
      "- More automated workplace tools handling routine tasks\n",
      "- Smarter homes optimizing energy use and anticipating needs\n",
      "\n",
      "These developments will bring both benefits (efficiency, personalization) and challenges (privacy concerns, digital divides, job transitions). The actual outcome will depend on regulatory choices, technological progress, and societal values that shape AI development over the coming years.\n",
      "\n",
      "What aspects of AI's future role are you most curious about?\n",
      "\n",
      "# Response from competitor 5\n",
      "\n",
      "Predicting the future is inherently uncertain, but based on current trends and developments, here's a hypothetical glimpse into what life with AI might be like in 2030:\n",
      "\n",
      "**Increased Automation and Efficiency:**\n",
      "\n",
      "1. **Smart Homes and Cities**: AI-powered buildings and urban infrastructure will optimize energy consumption, traffic flow, waste management, and public services, making life more convenient and sustainable.\n",
      "2. **Personal Assistants**: AI-powered virtual assistants, like Amazon's Alexa or Google Home, will become ubiquitous, managing daily tasks, scheduling, and entertainment with ease.\n",
      "3. **Autonomous Transportation**: Self-driving cars and drones will transform the way we travel, reducing accidents, traffic congestion, and emissions.\n",
      "\n",
      "**Enhanced Healthcare and Medicine:**\n",
      "\n",
      "1. **AI-assisted Diagnosis**: AI algorithms will help doctors diagnose diseases more accurately and quickly, leading to better patient outcomes and personalized treatment plans.\n",
      "2. **Customized Medicine**: AI will enable the development of tailored therapies, precision medicine, and targeted treatments, revolutionizing healthcare.\n",
      "3. **Remote Monitoring**: AI-powered wearables and IoT devices will track patients' vital signs, detecting potential health issues before they become serious.\n",
      "\n",
      "**Augmented Education and Learning:**\n",
      "\n",
      "1. **Adaptive Learning Systems**: AI-driven platforms will provide personalized education, adjusting to individual learning styles, pace, and abilities.\n",
      "2. **Intelligent Tutoring**: AI-powered virtual tutors will offer one-on-one guidance, helping students overcome specific challenges and knowledge gaps.\n",
      "3. **Accessibility and Inclusion**: AI will enable more accessible education for people with disabilities, language barriers, or limited resources.\n",
      "\n",
      "**Transformed Workforce and Economy:**\n",
      "\n",
      "1. **Job Augmentation**: AI will enhance productivity, freeing humans from mundane tasks and enabling them to focus on high-value, creative work.\n",
      "2. **New Job Creation**: AI will spawn new industries, job categories, and entrepreneurial opportunities, such as AI training, deployment, and maintenance.\n",
      "3. **Redefining Work**: AI will prompt a shift towards lifelong learning, continuous skill development, and a culture of adaptability.\n",
      "\n",
      "**Emerging Challenges and Concerns:**\n",
      "\n",
      "1. **Job Displacement**: AI might displace certain jobs, particularly those involving repetitive or routine tasks, leading to social and economic disruption.\n",
      "2. **Bias and Fairness**: AI systems may perpetuate existing biases, compromising fairness and equity in decision-making.\n",
      "3. **Security and Trust**: As AI becomes more pervasive, concerns about data security, transparency, and accountability will grow.\n",
      "\n",
      "To mitigate these challenges, it's essential to:\n",
      "\n",
      "1. **Foster Continuous Learning**: Invest in education and retraining programs to help workers adapt to an AI-driven economy.\n",
      "2. **Implement Responsible AI**: Develop and deploy AI systems that prioritize transparency, accountability, and fairness.\n",
      "3. **Encourage Collaboration**: Foster partnerships between humans, AI developers, and policymakers to address the societal implications of AI and ensure a beneficial, inclusive future.\n",
      "\n",
      "In 2030, life with AI will be a double-edged sword – bringing both unprecedented opportunities and challenges. By acknowledging these developments and proactively addressing the concerns, we can navigate the transformative power of AI and shape a future that benefits humanity as a whole.\n",
      "\n",
      "# Response from competitor 6\n",
      "\n",
      "Predicting exactly what life will be like in 2030 is challenging, but based on current trends and advancements in artificial intelligence (AI), here's a possible scenario:\n",
      "\n",
      "**Augmented Lives:**\n",
      "\n",
      "1. **Personal Assistants:** AI-powered personal assistants like Alexa, Google Assistant, or Cortana will become even more indispensable. They'll learn your habits and preferences, anticipating your needs and providing personalized recommendations.\n",
      "2. **Smart Homes:** AI-driven smart homes will continue to evolve, with seamless integration of devices, appliances, and services (e.g., Amazon Echo). Voice-controlled home automation will make daily tasks easier, while security cameras and biometric scanners will enhance safety and convenience.\n",
      "3. **Health and Wellness:** AI-assisted health monitoring systems will become widespread, using wearables, biosensors, or mobile apps to track vital signs and detect early warning signs of illnesses.\n",
      "\n",
      "**New Job Opportunities:**\n",
      "\n",
      "1. **AI Experts:** With the rise of AI, experts in fields like machine learning, data science, and natural language processing will be in high demand.\n",
      "2. **Digital Creatives:** As AI-generated content becomes more prevalent, digital creatives (e.g., writers, artists) will focus on higher-level tasks like conceptualization and curation.\n",
      "3. **AI Ethics Specialists:** With the growth of AI comes concerns about bias, fairness, and accountability. Specialists in AI ethics will be needed to ensure that AI systems are developed with societal values in mind.\n",
      "\n",
      "**Societal Shifts:**\n",
      "\n",
      "1. **Remote Work:** AI-facilitated remote work will become the norm, enabling people to work from anywhere and at any time.\n",
      "2. **Shifts in Education:** AI-powered adaptive learning systems will personalize education, allowing teachers to focus on high-touch skills and social-emotional learning.\n",
      "3. **Increased Automation:** With increased automation comes the need for workers to reskill and upskill to remain relevant.\n",
      "\n",
      "**Cybersecurity and Safety:**\n",
      "\n",
      "1. **Cybersecurity Experts:** As digital attacks become more sophisticated, cybersecurity experts will be in high demand to protect individuals, businesses, and governments from cyber threats.\n",
      "2. **Biometric Security:** AI-fueled biometric surveillance will enhance public safety by detecting suspicious behavior.\n",
      "3. **Data Protection:** Individuals and organizations will need to ensure their data is protected from unauthorized access, misuse, or exploitation.\n",
      "\n",
      "**Potential Challenges:**\n",
      "\n",
      "1. **Job Displacement:** Automation and AI transformation may lead to job displacement for certain professions, requiring workers to adapt quickly.\n",
      "2. **Bias and Fairness:** As AI decision-making becomes more prevalent, biases in algorithms can perpetuate systemic inequalities, highlighting the need for fairness and accountability measures.\n",
      "3. **Dependence on Technology:** Overreliance on AI could erode human skills, creativity, and critical thinking.\n",
      "\n",
      "This is just a glimpse into what life with AI might be like in 2030. The future will likely involve numerous trade-offs between the benefits and challenges of AI integration.\n",
      "\n",
      "\n",
      "\n",
      "Now respond with the JSON with the ranked order of the competitors, nothing else. Do not include markdown formatting or code blocks.\n"
     ]
    }
   ],
   "source": [
    "print(judge)"
   ]
  },
  {
   "cell_type": "code",
   "execution_count": 40,
   "metadata": {},
   "outputs": [],
   "source": [
    "judge_messages = [{\"role\": \"user\", \"content\": judge}]"
   ]
  },
  {
   "cell_type": "code",
   "execution_count": null,
   "metadata": {},
   "outputs": [
    {
     "name": "stdout",
     "output_type": "stream",
     "text": [
      "Life with AI in 2030 is shaping up to be significantly different, and in many ways, more integrated with our daily lives than today. Here's a glimpse:\n",
      "\n",
      "**1. Ubiquitous Assistance and Automation:**\n",
      "\n",
      "*   **Personalized Everything:** AI will hyper-personalize services. From your newsfeed and entertainment to your healthcare and education, everything will be tailored to your individual needs and preferences.\n",
      "*   **Smart Homes & Cities:** Homes will anticipate your needs, adjusting temperature, lighting, and even preparing meals based on your routines and dietary requirements. Cities will optimize traffic flow, manage energy consumption, and improve public safety using AI-powered systems.\n",
      "*   **Automated Transportation:** Self-driving vehicles (cars, trucks, buses, and even drones) will become more common, leading to reduced accidents, increased efficiency, and potentially transforming urban planning.\n",
      "*   **Workplace Transformation:** AI will automate repetitive tasks, freeing up humans to focus on more creative, strategic, and interpersonal roles. AI-powered tools will assist in decision-making, project management, and data analysis. However, this will also require workforce adaptation and reskilling.\n",
      "\n",
      "**2. Healthcare Revolution:**\n",
      "\n",
      "*   **Early Diagnosis & Personalized Medicine:** AI will analyze medical images, genetic data, and patient history to diagnose diseases earlier and more accurately. Treatments will be tailored to individual genetic profiles, maximizing effectiveness and minimizing side effects.\n",
      "*   **Virtual Healthcare Assistants:** AI-powered chatbots and virtual assistants will provide basic medical advice, monitor vital signs remotely, and connect patients with doctors.\n",
      "*   **Drug Discovery & Development:** AI will accelerate the process of drug discovery by analyzing vast amounts of data and identifying promising drug candidates.\n",
      "*   **Robotic Surgery:** Robotic surgery, guided by AI, will become more precise and less invasive, leading to faster recovery times and better outcomes.\n",
      "\n",
      "**3. Enhanced Education:**\n",
      "\n",
      "*   **Personalized Learning:** AI will analyze student performance and adapt learning materials to their individual needs and learning styles.\n",
      "*   **AI Tutors:** AI tutors will provide personalized feedback, answer questions, and guide students through complex topics.\n",
      "*   **Automated Grading & Administration:** AI will automate grading and administrative tasks, freeing up teachers to focus on teaching and interacting with students.\n",
      "*   **Gamified Learning:** AI can create engaging and interactive learning experiences through gamification, making learning more fun and effective.\n",
      "\n",
      "**4. Smarter Entertainment:**\n",
      "\n",
      "*   **AI-Generated Content:** AI will be used to create music, art, and even movies, opening up new avenues for creativity and personalization.\n",
      "*   **Immersive Experiences:** AI will power more immersive and interactive gaming experiences, blurring the lines between the virtual and real worlds.\n",
      "*   **Personalized Recommendations:** AI will recommend movies, music, and books based on your preferences, leading to more satisfying entertainment experiences.\n",
      "\n",
      "**5. Ethical and Societal Considerations:**\n",
      "\n",
      "*   **Job Displacement:** Automation may lead to job displacement in some industries, requiring retraining and new economic models.\n",
      "*   **Bias & Fairness:** AI algorithms can be biased based on the data they are trained on, leading to unfair or discriminatory outcomes. It will be crucial to develop and deploy AI systems that are fair, transparent, and accountable.\n",
      "*   **Privacy Concerns:** The use of AI requires vast amounts of data, raising concerns about privacy and data security. Robust regulations and safeguards will be needed to protect personal information.\n",
      "*   **AI Safety:** Ensuring that AI systems are aligned with human values and goals will be crucial to prevent unintended consequences.\n",
      "*   **Digital Divide:** Access to AI-powered technologies and the skills needed to use them effectively will be essential to prevent a widening digital divide.\n",
      "\n",
      "**In summary, life with AI in 2030 will be more personalized, efficient, and convenient. However, it will also require careful consideration of ethical and societal implications to ensure that AI benefits all of humanity.**\n",
      "\n",
      "**Here are some key challenges to overcome:**\n",
      "\n",
      "*   **Developing more robust and explainable AI algorithms.**\n",
      "*   **Addressing bias and ensuring fairness in AI systems.**\n",
      "*   **Protecting privacy and data security.**\n",
      "*   **Preparing the workforce for the changing job market.**\n",
      "*   **Establishing ethical guidelines and regulations for AI development and deployment.**\n",
      "*   **Ensuring equitable access to AI technologies.**\n",
      "\n",
      "The future of AI is not predetermined. It will be shaped by the choices we make today. By addressing these challenges proactively, we can create a future where AI is a force for good, enhancing human lives and solving some of the world's most pressing problems.\n",
      "\n",
      "['gpt-4o-mini', 'claude-3-7-sonnet-latest', 'gemini-2.0-flash', 'claude-3-7-sonnet-latest', 'llama-3.3-70b-versatile', 'llama3.2']\n"
     ]
    }
   ],
   "source": [
    "# Judgement time!\n",
    "\n",
    "openai = OpenAI()\n",
    "response = openai.chat.completions.create(\n",
    "    model=\"o3-mini\",\n",
    "    messages=judge_messages,\n",
    ")\n",
    "results = response.choices[0].message.content\n",
    "print(results)\n",
    "print(competitors)\n"
   ]
  },
  {
   "cell_type": "code",
   "execution_count": 35,
   "metadata": {},
   "outputs": [
    {
     "name": "stdout",
     "output_type": "stream",
     "text": [
      "Rank 1: gemini-2.0-flash\n",
      "Rank 2: llama-3.3-70b-versatile\n",
      "Rank 3: gpt-4o-mini\n",
      "Rank 4: llama3.2\n",
      "Rank 5: claude-3-7-sonnet-latest\n",
      "Rank 6: claude-3-7-sonnet-latest\n"
     ]
    }
   ],
   "source": [
    "# OK let's turn this into results!\n",
    "\n",
    "results_dict = json.loads(results)\n",
    "ranks = results_dict[\"results\"]\n",
    "for index, result in enumerate(ranks):\n",
    "    competitor = competitors[int(result)-1]\n",
    "    print(f\"Rank {index+1}: {competitor}\")"
   ]
  },
  {
   "cell_type": "code",
   "execution_count": 41,
   "metadata": {},
   "outputs": [
    {
     "name": "stdout",
     "output_type": "stream",
     "text": [
      "Rank 1: gemini-2.0-flash\n",
      "Rank 2: gpt-4o-mini\n",
      "Rank 3: llama-3.3-70b-versatile\n",
      "Rank 4: llama3.2\n",
      "Rank 5: claude-3-7-sonnet-latest\n",
      "Rank 6: claude-3-7-sonnet-latest\n"
     ]
    }
   ],
   "source": [
    "# Judgement time!\n",
    "gemini = OpenAI(api_key=google_api_key, base_url=\"https://generativelanguage.googleapis.com/v1beta/openai/\")\n",
    "model_name = \"gemini-2.0-flash\"\n",
    "\n",
    "response = gemini.chat.completions.create(model=model_name, messages=judge_messages)\n",
    "results = response.choices[0].message.content\n",
    "\n",
    "results_dict = json.loads(results)\n",
    "ranks = results_dict[\"results\"]\n",
    "for index, result in enumerate(ranks):\n",
    "    competitor = competitors[int(result)-1]\n",
    "    print(f\"Rank {index+1}: {competitor}\")\n"
   ]
  },
  {
   "cell_type": "markdown",
   "metadata": {},
   "source": [
    "<table style=\"margin: 0; text-align: left; width:100%\">\n",
    "    <tr>\n",
    "        <td style=\"width: 150px; height: 150px; vertical-align: middle;\">\n",
    "            <img src=\"../assets/exercise.png\" width=\"150\" height=\"150\" style=\"display: block;\" />\n",
    "        </td>\n",
    "        <td>\n",
    "            <h2 style=\"color:#ff7800;\">Exercise</h2>\n",
    "            <span style=\"color:#ff7800;\">Which pattern(s) did this use? Try updating this to add another Agentic design pattern.\n",
    "            </span>\n",
    "        </td>\n",
    "    </tr>\n",
    "</table>"
   ]
  },
  {
   "cell_type": "markdown",
   "metadata": {},
   "source": [
    "<table style=\"margin: 0; text-align: left; width:100%\">\n",
    "    <tr>\n",
    "        <td style=\"width: 150px; height: 150px; vertical-align: middle;\">\n",
    "            <img src=\"../assets/business.png\" width=\"150\" height=\"150\" style=\"display: block;\" />\n",
    "        </td>\n",
    "        <td>\n",
    "            <h2 style=\"color:#00bfff;\">Commercial implications</h2>\n",
    "            <span style=\"color:#00bfff;\">These kinds of patterns - to send a task to multiple models, and evaluate results,\n",
    "            are common where you need to improve the quality of your LLM response. This approach can be universally applied\n",
    "            to business projects where accuracy is critical.\n",
    "            </span>\n",
    "        </td>\n",
    "    </tr>\n",
    "</table>"
   ]
  }
 ],
 "metadata": {
  "kernelspec": {
   "display_name": ".venv",
   "language": "python",
   "name": "python3"
  },
  "language_info": {
   "codemirror_mode": {
    "name": "ipython",
    "version": 3
   },
   "file_extension": ".py",
   "mimetype": "text/x-python",
   "name": "python",
   "nbconvert_exporter": "python",
   "pygments_lexer": "ipython3",
   "version": "3.12.9"
  }
 },
 "nbformat": 4,
 "nbformat_minor": 2
}
